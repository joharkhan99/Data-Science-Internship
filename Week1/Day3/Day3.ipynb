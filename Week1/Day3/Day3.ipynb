{
 "cells": [
  {
   "cell_type": "markdown",
   "id": "b0100c6c",
   "metadata": {},
   "source": [
    "### Task 1"
   ]
  },
  {
   "cell_type": "markdown",
   "id": "65f6d56b",
   "metadata": {},
   "source": [
    "Appliances Power Consumption Scrapper.\n",
    "You have to scrape all power consumption data from Website and return all data in csv format."
   ]
  },
  {
   "cell_type": "code",
   "execution_count": 3,
   "id": "94ba749d",
   "metadata": {},
   "outputs": [
    {
     "name": "stdout",
     "output_type": "stream",
     "text": [
      "Requirement already satisfied: BeautifulSoup4 in d:\\apps\\anaconda\\files\\lib\\site-packages (4.12.2)\n",
      "Requirement already satisfied: soupsieve>1.2 in d:\\apps\\anaconda\\files\\lib\\site-packages (from BeautifulSoup4) (2.0)\n",
      "Note: you may need to restart the kernel to use updated packages.\n"
     ]
    }
   ],
   "source": [
    "pip install BeautifulSoup4"
   ]
  },
  {
   "cell_type": "code",
   "execution_count": 4,
   "id": "7344c36c",
   "metadata": {},
   "outputs": [
    {
     "name": "stdout",
     "output_type": "stream",
     "text": [
      "Requirement already satisfied: requests in d:\\apps\\anaconda\\files\\lib\\site-packages (2.22.0)\n",
      "Requirement already satisfied: chardet<3.1.0,>=3.0.2 in d:\\apps\\anaconda\\files\\lib\\site-packages (from requests) (3.0.4)\n",
      "Requirement already satisfied: idna<2.9,>=2.5 in d:\\apps\\anaconda\\files\\lib\\site-packages (from requests) (2.8)\n",
      "Requirement already satisfied: urllib3!=1.25.0,!=1.25.1,<1.26,>=1.21.1 in d:\\apps\\anaconda\\files\\lib\\site-packages (from requests) (1.25.3)\n",
      "Requirement already satisfied: certifi>=2017.4.17 in d:\\apps\\anaconda\\files\\lib\\site-packages (from requests) (2020.4.5.1)\n",
      "Note: you may need to restart the kernel to use updated packages.\n"
     ]
    }
   ],
   "source": [
    "pip install requests"
   ]
  },
  {
   "cell_type": "code",
   "execution_count": 33,
   "id": "e24e04b4",
   "metadata": {},
   "outputs": [
    {
     "data": {
      "text/html": [
       "<div>\n",
       "<style scoped>\n",
       "    .dataframe tbody tr th:only-of-type {\n",
       "        vertical-align: middle;\n",
       "    }\n",
       "\n",
       "    .dataframe tbody tr th {\n",
       "        vertical-align: top;\n",
       "    }\n",
       "\n",
       "    .dataframe thead th {\n",
       "        text-align: right;\n",
       "    }\n",
       "</style>\n",
       "<table border=\"1\" class=\"dataframe\">\n",
       "  <thead>\n",
       "    <tr style=\"text-align: right;\">\n",
       "      <th></th>\n",
       "      <th>Appliance</th>\n",
       "      <th>Minimum</th>\n",
       "      <th>Maximum</th>\n",
       "      <th>Standby</th>\n",
       "      <th>Other Name(s)</th>\n",
       "      <th>References</th>\n",
       "      <th>Notes</th>\n",
       "    </tr>\n",
       "  </thead>\n",
       "  <tbody>\n",
       "    <tr>\n",
       "      <th>0</th>\n",
       "      <td>100W light bulb (Incandescent)</td>\n",
       "      <td>100W</td>\n",
       "      <td>100W</td>\n",
       "      <td>0W</td>\n",
       "      <td>NaN</td>\n",
       "      <td>[1]</td>\n",
       "      <td>NaN</td>\n",
       "    </tr>\n",
       "    <tr>\n",
       "      <th>1</th>\n",
       "      <td>22 Inch LED TV</td>\n",
       "      <td>17W</td>\n",
       "      <td>17W</td>\n",
       "      <td>0.5W</td>\n",
       "      <td>NaN</td>\n",
       "      <td>NaN</td>\n",
       "      <td>NaN</td>\n",
       "    </tr>\n",
       "    <tr>\n",
       "      <th>2</th>\n",
       "      <td>25\" colour TV</td>\n",
       "      <td>150W</td>\n",
       "      <td>150W</td>\n",
       "      <td>NaN</td>\n",
       "      <td>NaN</td>\n",
       "      <td>NaN</td>\n",
       "      <td>NaN</td>\n",
       "    </tr>\n",
       "    <tr>\n",
       "      <th>3</th>\n",
       "      <td>3\" belt sander</td>\n",
       "      <td>1000W</td>\n",
       "      <td>1000W</td>\n",
       "      <td>NaN</td>\n",
       "      <td>NaN</td>\n",
       "      <td>NaN</td>\n",
       "      <td>NaN</td>\n",
       "    </tr>\n",
       "    <tr>\n",
       "      <th>4</th>\n",
       "      <td>32 Inch LED TV</td>\n",
       "      <td>20W</td>\n",
       "      <td>60W</td>\n",
       "      <td>1W</td>\n",
       "      <td>NaN</td>\n",
       "      <td>NaN</td>\n",
       "      <td>NaN</td>\n",
       "    </tr>\n",
       "    <tr>\n",
       "      <th>...</th>\n",
       "      <td>...</td>\n",
       "      <td>...</td>\n",
       "      <td>...</td>\n",
       "      <td>...</td>\n",
       "      <td>...</td>\n",
       "      <td>...</td>\n",
       "      <td>...</td>\n",
       "    </tr>\n",
       "    <tr>\n",
       "      <th>150</th>\n",
       "      <td>WiFi Booster</td>\n",
       "      <td>1W</td>\n",
       "      <td>2W</td>\n",
       "      <td>NaN</td>\n",
       "      <td>WiFi Repeater,WiFi Extender,Range Extender</td>\n",
       "      <td>NaN</td>\n",
       "      <td>NaN</td>\n",
       "    </tr>\n",
       "    <tr>\n",
       "      <th>151</th>\n",
       "      <td>WiFi Router</td>\n",
       "      <td>4W</td>\n",
       "      <td>10W</td>\n",
       "      <td>4W</td>\n",
       "      <td>Router</td>\n",
       "      <td>NaN</td>\n",
       "      <td>NaN</td>\n",
       "    </tr>\n",
       "    <tr>\n",
       "      <th>152</th>\n",
       "      <td>Window Air Conditioner</td>\n",
       "      <td>500W</td>\n",
       "      <td>1500W</td>\n",
       "      <td>NaN</td>\n",
       "      <td>Window AC</td>\n",
       "      <td>NaN</td>\n",
       "      <td>NaN</td>\n",
       "    </tr>\n",
       "    <tr>\n",
       "      <th>153</th>\n",
       "      <td>Wine cooler (18 bottles)</td>\n",
       "      <td>83W</td>\n",
       "      <td>83W</td>\n",
       "      <td>0W</td>\n",
       "      <td>NaN</td>\n",
       "      <td>[1]</td>\n",
       "      <td>NaN</td>\n",
       "    </tr>\n",
       "    <tr>\n",
       "      <th>154</th>\n",
       "      <td>Xbox One</td>\n",
       "      <td>50W</td>\n",
       "      <td>110W</td>\n",
       "      <td>14W</td>\n",
       "      <td>NaN</td>\n",
       "      <td>NaN</td>\n",
       "      <td>NaN</td>\n",
       "    </tr>\n",
       "  </tbody>\n",
       "</table>\n",
       "<p>155 rows × 7 columns</p>\n",
       "</div>"
      ],
      "text/plain": [
       "                          Appliance Minimum Maximum Standby  \\\n",
       "0    100W light bulb (Incandescent)    100W    100W      0W   \n",
       "1                    22 Inch LED TV     17W     17W    0.5W   \n",
       "2                     25\" colour TV    150W    150W     NaN   \n",
       "3                    3\" belt sander   1000W   1000W     NaN   \n",
       "4                    32 Inch LED TV     20W     60W      1W   \n",
       "..                              ...     ...     ...     ...   \n",
       "150                    WiFi Booster      1W      2W     NaN   \n",
       "151                     WiFi Router      4W     10W      4W   \n",
       "152          Window Air Conditioner    500W   1500W     NaN   \n",
       "153        Wine cooler (18 bottles)     83W     83W      0W   \n",
       "154                        Xbox One     50W    110W     14W   \n",
       "\n",
       "                                  Other Name(s) References Notes  \n",
       "0                                           NaN        [1]   NaN  \n",
       "1                                           NaN        NaN   NaN  \n",
       "2                                           NaN        NaN   NaN  \n",
       "3                                           NaN        NaN   NaN  \n",
       "4                                           NaN        NaN   NaN  \n",
       "..                                          ...        ...   ...  \n",
       "150  WiFi Repeater,WiFi Extender,Range Extender        NaN   NaN  \n",
       "151                                      Router        NaN   NaN  \n",
       "152                                   Window AC        NaN   NaN  \n",
       "153                                         NaN        [1]   NaN  \n",
       "154                                         NaN        NaN   NaN  \n",
       "\n",
       "[155 rows x 7 columns]"
      ]
     },
     "execution_count": 33,
     "metadata": {},
     "output_type": "execute_result"
    }
   ],
   "source": [
    "import requests\n",
    "from bs4 import BeautifulSoup\n",
    "import pandas as pd\n",
    "\n",
    "url = \"https://www.daftlogic.com/information-appliance-power-consumption.htm\"\n",
    "result = requests.get(url).text\n",
    "\n",
    "doc = BeautifulSoup(result, \"html.parser\")\n",
    "\n",
    "title = doc.find(\"title\").string\n",
    "table = doc.find(\"table\",id=\"tblApp\")\n",
    "\n",
    "th_tags = table.find_all(\"th\")\n",
    "column_names = []\n",
    "\n",
    "for th in th_tags:\n",
    "    column_names.append(th.string)\n",
    "\n",
    "data = pd.read_html(str(table))[0]\n",
    "data"
   ]
  },
  {
   "cell_type": "code",
   "execution_count": 34,
   "id": "cd044f59",
   "metadata": {},
   "outputs": [],
   "source": [
    "data.to_csv(\"Power Consumption.csv\")"
   ]
  },
  {
   "cell_type": "code",
   "execution_count": null,
   "id": "4a7fcde3",
   "metadata": {},
   "outputs": [],
   "source": []
  },
  {
   "cell_type": "code",
   "execution_count": null,
   "id": "c23594fd",
   "metadata": {},
   "outputs": [],
   "source": []
  },
  {
   "cell_type": "code",
   "execution_count": null,
   "id": "bd1b5135",
   "metadata": {},
   "outputs": [],
   "source": []
  },
  {
   "cell_type": "code",
   "execution_count": null,
   "id": "b519dbfa",
   "metadata": {},
   "outputs": [],
   "source": []
  },
  {
   "cell_type": "code",
   "execution_count": null,
   "id": "26ad5414",
   "metadata": {},
   "outputs": [],
   "source": []
  },
  {
   "cell_type": "code",
   "execution_count": null,
   "id": "6639cafc",
   "metadata": {},
   "outputs": [],
   "source": []
  }
 ],
 "metadata": {
  "kernelspec": {
   "display_name": "Python 3 (ipykernel)",
   "language": "python",
   "name": "python3"
  },
  "language_info": {
   "codemirror_mode": {
    "name": "ipython",
    "version": 3
   },
   "file_extension": ".py",
   "mimetype": "text/x-python",
   "name": "python",
   "nbconvert_exporter": "python",
   "pygments_lexer": "ipython3",
   "version": "3.9.12"
  }
 },
 "nbformat": 4,
 "nbformat_minor": 5
}
