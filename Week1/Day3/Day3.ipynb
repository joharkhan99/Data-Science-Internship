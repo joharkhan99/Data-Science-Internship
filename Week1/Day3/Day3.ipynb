{
 "cells": [
  {
   "cell_type": "markdown",
   "id": "e2bdbe22",
   "metadata": {},
   "source": [
    "### Task 1"
   ]
  },
  {
   "cell_type": "markdown",
   "id": "65969176",
   "metadata": {},
   "source": [
    "Appliances Power Consumption Scrapper.\n",
    "You have to scrape all power consumption data from Website and return all data in csv format."
   ]
  },
  {
   "cell_type": "code",
   "execution_count": 3,
   "id": "a1fd69dc",
   "metadata": {},
   "outputs": [
    {
     "name": "stdout",
     "output_type": "stream",
     "text": [
      "Requirement already satisfied: BeautifulSoup4 in d:\\apps\\anaconda\\files\\lib\\site-packages (4.12.2)\n",
      "Requirement already satisfied: soupsieve>1.2 in d:\\apps\\anaconda\\files\\lib\\site-packages (from BeautifulSoup4) (2.0)\n",
      "Note: you may need to restart the kernel to use updated packages.\n"
     ]
    }
   ],
   "source": [
    "pip install BeautifulSoup4"
   ]
  },
  {
   "cell_type": "code",
   "execution_count": 4,
   "id": "42f13e29",
   "metadata": {},
   "outputs": [
    {
     "name": "stdout",
     "output_type": "stream",
     "text": [
      "Requirement already satisfied: requests in d:\\apps\\anaconda\\files\\lib\\site-packages (2.22.0)\n",
      "Requirement already satisfied: chardet<3.1.0,>=3.0.2 in d:\\apps\\anaconda\\files\\lib\\site-packages (from requests) (3.0.4)\n",
      "Requirement already satisfied: idna<2.9,>=2.5 in d:\\apps\\anaconda\\files\\lib\\site-packages (from requests) (2.8)\n",
      "Requirement already satisfied: urllib3!=1.25.0,!=1.25.1,<1.26,>=1.21.1 in d:\\apps\\anaconda\\files\\lib\\site-packages (from requests) (1.25.3)\n",
      "Requirement already satisfied: certifi>=2017.4.17 in d:\\apps\\anaconda\\files\\lib\\site-packages (from requests) (2020.4.5.1)\n",
      "Note: you may need to restart the kernel to use updated packages.\n"
     ]
    }
   ],
   "source": [
    "pip install requests"
   ]
  },
  {
   "cell_type": "markdown",
   "id": "456c8772",
   "metadata": {},
   "source": [
    "### Read Data From URL"
   ]
  },
  {
   "cell_type": "code",
   "execution_count": 33,
   "id": "6ad451a9",
   "metadata": {},
   "outputs": [
    {
     "data": {
      "text/html": [
       "<div>\n",
       "<style scoped>\n",
       "    .dataframe tbody tr th:only-of-type {\n",
       "        vertical-align: middle;\n",
       "    }\n",
       "\n",
       "    .dataframe tbody tr th {\n",
       "        vertical-align: top;\n",
       "    }\n",
       "\n",
       "    .dataframe thead th {\n",
       "        text-align: right;\n",
       "    }\n",
       "</style>\n",
       "<table border=\"1\" class=\"dataframe\">\n",
       "  <thead>\n",
       "    <tr style=\"text-align: right;\">\n",
       "      <th></th>\n",
       "      <th>Appliance</th>\n",
       "      <th>Minimum</th>\n",
       "      <th>Maximum</th>\n",
       "      <th>Standby</th>\n",
       "      <th>Other Name(s)</th>\n",
       "      <th>References</th>\n",
       "      <th>Notes</th>\n",
       "    </tr>\n",
       "  </thead>\n",
       "  <tbody>\n",
       "    <tr>\n",
       "      <th>0</th>\n",
       "      <td>100W light bulb (Incandescent)</td>\n",
       "      <td>100W</td>\n",
       "      <td>100W</td>\n",
       "      <td>0W</td>\n",
       "      <td>NaN</td>\n",
       "      <td>[1]</td>\n",
       "      <td>NaN</td>\n",
       "    </tr>\n",
       "    <tr>\n",
       "      <th>1</th>\n",
       "      <td>22 Inch LED TV</td>\n",
       "      <td>17W</td>\n",
       "      <td>17W</td>\n",
       "      <td>0.5W</td>\n",
       "      <td>NaN</td>\n",
       "      <td>NaN</td>\n",
       "      <td>NaN</td>\n",
       "    </tr>\n",
       "    <tr>\n",
       "      <th>2</th>\n",
       "      <td>25\" colour TV</td>\n",
       "      <td>150W</td>\n",
       "      <td>150W</td>\n",
       "      <td>NaN</td>\n",
       "      <td>NaN</td>\n",
       "      <td>NaN</td>\n",
       "      <td>NaN</td>\n",
       "    </tr>\n",
       "    <tr>\n",
       "      <th>3</th>\n",
       "      <td>3\" belt sander</td>\n",
       "      <td>1000W</td>\n",
       "      <td>1000W</td>\n",
       "      <td>NaN</td>\n",
       "      <td>NaN</td>\n",
       "      <td>NaN</td>\n",
       "      <td>NaN</td>\n",
       "    </tr>\n",
       "    <tr>\n",
       "      <th>4</th>\n",
       "      <td>32 Inch LED TV</td>\n",
       "      <td>20W</td>\n",
       "      <td>60W</td>\n",
       "      <td>1W</td>\n",
       "      <td>NaN</td>\n",
       "      <td>NaN</td>\n",
       "      <td>NaN</td>\n",
       "    </tr>\n",
       "    <tr>\n",
       "      <th>...</th>\n",
       "      <td>...</td>\n",
       "      <td>...</td>\n",
       "      <td>...</td>\n",
       "      <td>...</td>\n",
       "      <td>...</td>\n",
       "      <td>...</td>\n",
       "      <td>...</td>\n",
       "    </tr>\n",
       "    <tr>\n",
       "      <th>150</th>\n",
       "      <td>WiFi Booster</td>\n",
       "      <td>1W</td>\n",
       "      <td>2W</td>\n",
       "      <td>NaN</td>\n",
       "      <td>WiFi Repeater,WiFi Extender,Range Extender</td>\n",
       "      <td>NaN</td>\n",
       "      <td>NaN</td>\n",
       "    </tr>\n",
       "    <tr>\n",
       "      <th>151</th>\n",
       "      <td>WiFi Router</td>\n",
       "      <td>4W</td>\n",
       "      <td>10W</td>\n",
       "      <td>4W</td>\n",
       "      <td>Router</td>\n",
       "      <td>NaN</td>\n",
       "      <td>NaN</td>\n",
       "    </tr>\n",
       "    <tr>\n",
       "      <th>152</th>\n",
       "      <td>Window Air Conditioner</td>\n",
       "      <td>500W</td>\n",
       "      <td>1500W</td>\n",
       "      <td>NaN</td>\n",
       "      <td>Window AC</td>\n",
       "      <td>NaN</td>\n",
       "      <td>NaN</td>\n",
       "    </tr>\n",
       "    <tr>\n",
       "      <th>153</th>\n",
       "      <td>Wine cooler (18 bottles)</td>\n",
       "      <td>83W</td>\n",
       "      <td>83W</td>\n",
       "      <td>0W</td>\n",
       "      <td>NaN</td>\n",
       "      <td>[1]</td>\n",
       "      <td>NaN</td>\n",
       "    </tr>\n",
       "    <tr>\n",
       "      <th>154</th>\n",
       "      <td>Xbox One</td>\n",
       "      <td>50W</td>\n",
       "      <td>110W</td>\n",
       "      <td>14W</td>\n",
       "      <td>NaN</td>\n",
       "      <td>NaN</td>\n",
       "      <td>NaN</td>\n",
       "    </tr>\n",
       "  </tbody>\n",
       "</table>\n",
       "<p>155 rows × 7 columns</p>\n",
       "</div>"
      ],
      "text/plain": [
       "                          Appliance Minimum Maximum Standby  \\\n",
       "0    100W light bulb (Incandescent)    100W    100W      0W   \n",
       "1                    22 Inch LED TV     17W     17W    0.5W   \n",
       "2                     25\" colour TV    150W    150W     NaN   \n",
       "3                    3\" belt sander   1000W   1000W     NaN   \n",
       "4                    32 Inch LED TV     20W     60W      1W   \n",
       "..                              ...     ...     ...     ...   \n",
       "150                    WiFi Booster      1W      2W     NaN   \n",
       "151                     WiFi Router      4W     10W      4W   \n",
       "152          Window Air Conditioner    500W   1500W     NaN   \n",
       "153        Wine cooler (18 bottles)     83W     83W      0W   \n",
       "154                        Xbox One     50W    110W     14W   \n",
       "\n",
       "                                  Other Name(s) References Notes  \n",
       "0                                           NaN        [1]   NaN  \n",
       "1                                           NaN        NaN   NaN  \n",
       "2                                           NaN        NaN   NaN  \n",
       "3                                           NaN        NaN   NaN  \n",
       "4                                           NaN        NaN   NaN  \n",
       "..                                          ...        ...   ...  \n",
       "150  WiFi Repeater,WiFi Extender,Range Extender        NaN   NaN  \n",
       "151                                      Router        NaN   NaN  \n",
       "152                                   Window AC        NaN   NaN  \n",
       "153                                         NaN        [1]   NaN  \n",
       "154                                         NaN        NaN   NaN  \n",
       "\n",
       "[155 rows x 7 columns]"
      ]
     },
     "execution_count": 33,
     "metadata": {},
     "output_type": "execute_result"
    }
   ],
   "source": [
    "import requests\n",
    "from bs4 import BeautifulSoup\n",
    "import pandas as pd\n",
    "\n",
    "url = \"https://www.daftlogic.com/information-appliance-power-consumption.htm\"\n",
    "result = requests.get(url).text\n",
    "\n",
    "doc = BeautifulSoup(result, \"html.parser\")\n",
    "\n",
    "title = doc.find(\"title\").string\n",
    "table = doc.find(\"table\",id=\"tblApp\")\n",
    "\n",
    "th_tags = table.find_all(\"th\")\n",
    "column_names = []\n",
    "\n",
    "for th in th_tags:\n",
    "    column_names.append(th.string)\n",
    "\n",
    "data = pd.read_html(str(table))[0]\n",
    "data"
   ]
  },
  {
   "cell_type": "markdown",
   "id": "a72c94d8",
   "metadata": {},
   "source": [
    "### Save Data to CSV"
   ]
  },
  {
   "cell_type": "code",
   "execution_count": 34,
   "id": "74f535d6",
   "metadata": {},
   "outputs": [],
   "source": [
    "data.to_csv(\"Power Consumption.csv\")"
   ]
  },
  {
   "cell_type": "markdown",
   "id": "5153c841",
   "metadata": {},
   "source": [
    "### Task2: Basic data manipulation and analysis using Pandas with a provided dataset"
   ]
  },
  {
   "cell_type": "markdown",
   "id": "a5b9e209",
   "metadata": {},
   "source": [
    "Use the Iris flower dataset to answer the following questions:\n",
    "- What is the average sepal length for each species of iris?\n",
    "- What is the correlation between sepal length and petal length?\n",
    "- Which species of iris has the largest petals?"
   ]
  },
  {
   "cell_type": "markdown",
   "id": "82eda37c",
   "metadata": {},
   "source": [
    "### Read Iris CSV"
   ]
  },
  {
   "cell_type": "code",
   "execution_count": 35,
   "id": "d2c8ef28",
   "metadata": {},
   "outputs": [
    {
     "data": {
      "text/html": [
       "<div>\n",
       "<style scoped>\n",
       "    .dataframe tbody tr th:only-of-type {\n",
       "        vertical-align: middle;\n",
       "    }\n",
       "\n",
       "    .dataframe tbody tr th {\n",
       "        vertical-align: top;\n",
       "    }\n",
       "\n",
       "    .dataframe thead th {\n",
       "        text-align: right;\n",
       "    }\n",
       "</style>\n",
       "<table border=\"1\" class=\"dataframe\">\n",
       "  <thead>\n",
       "    <tr style=\"text-align: right;\">\n",
       "      <th></th>\n",
       "      <th>Id</th>\n",
       "      <th>SepalLengthCm</th>\n",
       "      <th>SepalWidthCm</th>\n",
       "      <th>PetalLengthCm</th>\n",
       "      <th>PetalWidthCm</th>\n",
       "      <th>Species</th>\n",
       "    </tr>\n",
       "  </thead>\n",
       "  <tbody>\n",
       "    <tr>\n",
       "      <th>0</th>\n",
       "      <td>1</td>\n",
       "      <td>5.1</td>\n",
       "      <td>3.5</td>\n",
       "      <td>1.4</td>\n",
       "      <td>0.2</td>\n",
       "      <td>Iris-setosa</td>\n",
       "    </tr>\n",
       "    <tr>\n",
       "      <th>1</th>\n",
       "      <td>2</td>\n",
       "      <td>4.9</td>\n",
       "      <td>3.0</td>\n",
       "      <td>1.4</td>\n",
       "      <td>0.2</td>\n",
       "      <td>Iris-setosa</td>\n",
       "    </tr>\n",
       "    <tr>\n",
       "      <th>2</th>\n",
       "      <td>3</td>\n",
       "      <td>4.7</td>\n",
       "      <td>3.2</td>\n",
       "      <td>1.3</td>\n",
       "      <td>0.2</td>\n",
       "      <td>Iris-setosa</td>\n",
       "    </tr>\n",
       "    <tr>\n",
       "      <th>3</th>\n",
       "      <td>4</td>\n",
       "      <td>4.6</td>\n",
       "      <td>3.1</td>\n",
       "      <td>1.5</td>\n",
       "      <td>0.2</td>\n",
       "      <td>Iris-setosa</td>\n",
       "    </tr>\n",
       "    <tr>\n",
       "      <th>4</th>\n",
       "      <td>5</td>\n",
       "      <td>5.0</td>\n",
       "      <td>3.6</td>\n",
       "      <td>1.4</td>\n",
       "      <td>0.2</td>\n",
       "      <td>Iris-setosa</td>\n",
       "    </tr>\n",
       "    <tr>\n",
       "      <th>...</th>\n",
       "      <td>...</td>\n",
       "      <td>...</td>\n",
       "      <td>...</td>\n",
       "      <td>...</td>\n",
       "      <td>...</td>\n",
       "      <td>...</td>\n",
       "    </tr>\n",
       "    <tr>\n",
       "      <th>145</th>\n",
       "      <td>146</td>\n",
       "      <td>6.7</td>\n",
       "      <td>3.0</td>\n",
       "      <td>5.2</td>\n",
       "      <td>2.3</td>\n",
       "      <td>Iris-virginica</td>\n",
       "    </tr>\n",
       "    <tr>\n",
       "      <th>146</th>\n",
       "      <td>147</td>\n",
       "      <td>6.3</td>\n",
       "      <td>2.5</td>\n",
       "      <td>5.0</td>\n",
       "      <td>1.9</td>\n",
       "      <td>Iris-virginica</td>\n",
       "    </tr>\n",
       "    <tr>\n",
       "      <th>147</th>\n",
       "      <td>148</td>\n",
       "      <td>6.5</td>\n",
       "      <td>3.0</td>\n",
       "      <td>5.2</td>\n",
       "      <td>2.0</td>\n",
       "      <td>Iris-virginica</td>\n",
       "    </tr>\n",
       "    <tr>\n",
       "      <th>148</th>\n",
       "      <td>149</td>\n",
       "      <td>6.2</td>\n",
       "      <td>3.4</td>\n",
       "      <td>5.4</td>\n",
       "      <td>2.3</td>\n",
       "      <td>Iris-virginica</td>\n",
       "    </tr>\n",
       "    <tr>\n",
       "      <th>149</th>\n",
       "      <td>150</td>\n",
       "      <td>5.9</td>\n",
       "      <td>3.0</td>\n",
       "      <td>5.1</td>\n",
       "      <td>1.8</td>\n",
       "      <td>Iris-virginica</td>\n",
       "    </tr>\n",
       "  </tbody>\n",
       "</table>\n",
       "<p>150 rows × 6 columns</p>\n",
       "</div>"
      ],
      "text/plain": [
       "      Id  SepalLengthCm  SepalWidthCm  PetalLengthCm  PetalWidthCm  \\\n",
       "0      1            5.1           3.5            1.4           0.2   \n",
       "1      2            4.9           3.0            1.4           0.2   \n",
       "2      3            4.7           3.2            1.3           0.2   \n",
       "3      4            4.6           3.1            1.5           0.2   \n",
       "4      5            5.0           3.6            1.4           0.2   \n",
       "..   ...            ...           ...            ...           ...   \n",
       "145  146            6.7           3.0            5.2           2.3   \n",
       "146  147            6.3           2.5            5.0           1.9   \n",
       "147  148            6.5           3.0            5.2           2.0   \n",
       "148  149            6.2           3.4            5.4           2.3   \n",
       "149  150            5.9           3.0            5.1           1.8   \n",
       "\n",
       "            Species  \n",
       "0       Iris-setosa  \n",
       "1       Iris-setosa  \n",
       "2       Iris-setosa  \n",
       "3       Iris-setosa  \n",
       "4       Iris-setosa  \n",
       "..              ...  \n",
       "145  Iris-virginica  \n",
       "146  Iris-virginica  \n",
       "147  Iris-virginica  \n",
       "148  Iris-virginica  \n",
       "149  Iris-virginica  \n",
       "\n",
       "[150 rows x 6 columns]"
      ]
     },
     "execution_count": 35,
     "metadata": {},
     "output_type": "execute_result"
    }
   ],
   "source": [
    "import pandas as pd\n",
    "df = pd.read_csv(\"Iris.csv\")\n",
    "df"
   ]
  },
  {
   "cell_type": "markdown",
   "id": "0463ca82",
   "metadata": {},
   "source": [
    "### average sepal length for each species of iris"
   ]
  },
  {
   "cell_type": "code",
   "execution_count": 53,
   "id": "b29a5e41",
   "metadata": {},
   "outputs": [
    {
     "data": {
      "text/plain": [
       "Species\n",
       "Iris-setosa        5.006\n",
       "Iris-versicolor    5.936\n",
       "Iris-virginica     6.588\n",
       "Name: SepalLengthCm, dtype: float64"
      ]
     },
     "execution_count": 53,
     "metadata": {},
     "output_type": "execute_result"
    }
   ],
   "source": [
    "grouped = df.groupby(\"Species\")\n",
    "# show the grouped indices/indexes\n",
    "grouped.indices\n",
    "# get a single group details\n",
    "grouped.get_group(\"Iris-virginica\")\n",
    "# average of all the columns\n",
    "grouped.mean()\n",
    "# average of sepal length only\n",
    "grouped.SepalLengthCm.mean()"
   ]
  },
  {
   "cell_type": "markdown",
   "id": "f2b6a01a",
   "metadata": {},
   "source": [
    "### correlation between sepal length and petal length"
   ]
  },
  {
   "cell_type": "code",
   "execution_count": 61,
   "id": "d0b338a2",
   "metadata": {
    "scrolled": false
   },
   "outputs": [
    {
     "name": "stdout",
     "output_type": "stream",
     "text": [
      "Correlation: 0.8717541573048718\n"
     ]
    },
    {
     "data": {
      "text/plain": [
       "<matplotlib.collections.PathCollection at 0x17dda82d730>"
      ]
     },
     "execution_count": 61,
     "metadata": {},
     "output_type": "execute_result"
    },
    {
     "data": {
      "image/png": "[encoded data removed]",
      "text/plain": [
       "<Figure size 640x480 with 1 Axes>"
      ]
     },
     "metadata": {},
     "output_type": "display_data"
    }
   ],
   "source": [
    "# correlation between sepal length and petal length\n",
    "import matplotlib.pyplot as plt\n",
    "print(\"Correlation: {}\".format(df['SepalLengthCm'].corr(df['PetalLengthCm'])))\n",
    "plt.scatter(df['SepalLengthCm'],df['PetalLengthCm'])"
   ]
  },
  {
   "cell_type": "markdown",
   "id": "a01237de",
   "metadata": {},
   "source": [
    "### Specie with largest petals"
   ]
  },
  {
   "cell_type": "code",
   "execution_count": 89,
   "id": "66e716fb",
   "metadata": {},
   "outputs": [
    {
     "data": {
      "text/plain": [
       "Id                          119\n",
       "SepalLengthCm               7.7\n",
       "SepalWidthCm                2.6\n",
       "PetalLengthCm               6.9\n",
       "PetalWidthCm                2.3\n",
       "Species          Iris-virginica\n",
       "Name: 118, dtype: object"
      ]
     },
     "execution_count": 89,
     "metadata": {},
     "output_type": "execute_result"
    }
   ],
   "source": [
    "# species of iris has the largest petals\n",
    "df['PetalLengthCm'].max()\n",
    "max_id = df['PetalLengthCm'].idxmax()\n",
    "df.iloc[max_id]"
   ]
  },
  {
   "cell_type": "code",
   "execution_count": null,
   "id": "e45823c8",
   "metadata": {},
   "outputs": [],
   "source": []
  },
  {
   "cell_type": "code",
   "execution_count": null,
   "id": "46307594",
   "metadata": {},
   "outputs": [],
   "source": []
  },
  {
   "cell_type": "code",
   "execution_count": null,
   "id": "b34ffff7",
   "metadata": {},
   "outputs": [],
   "source": []
  }
 ],
 "metadata": {
  "kernelspec": {
   "display_name": "Python 3 (ipykernel)",
   "language": "python",
   "name": "python3"
  },
  "language_info": {
   "codemirror_mode": {
    "name": "ipython",
    "version": 3
   },
   "file_extension": ".py",
   "mimetype": "text/x-python",
   "name": "python",
   "nbconvert_exporter": "python",
   "pygments_lexer": "ipython3",
   "version": "3.9.12"
  }
 },
 "nbformat": 4,
 "nbformat_minor": 5
}
