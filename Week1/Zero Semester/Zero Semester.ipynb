{
 "cells": [
  {
   "cell_type": "markdown",
   "id": "a8dd3e2e",
   "metadata": {},
   "source": [
    "### TASK 1"
   ]
  },
  {
   "cell_type": "markdown",
   "id": "54aedec6",
   "metadata": {},
   "source": [
    "Write a Python program to calculate the area of a rectangle given its length and width."
   ]
  },
  {
   "cell_type": "code",
   "execution_count": 29,
   "id": "6d050d3f",
   "metadata": {},
   "outputs": [
    {
     "name": "stdout",
     "output_type": "stream",
     "text": [
      "area:  100\n"
     ]
    }
   ],
   "source": [
    "length = 10\n",
    "width = 10\n",
    "area = length * width\n",
    "print(\"area: \", area)"
   ]
  },
  {
   "cell_type": "markdown",
   "id": "114f7277",
   "metadata": {},
   "source": [
    "### TASK 2"
   ]
  },
  {
   "cell_type": "markdown",
   "id": "527b8432",
   "metadata": {},
   "source": [
    "Write a Python program to create a list of numbers, calculate the sum of the list, and find the maximum and minimum values."
   ]
  },
  {
   "cell_type": "code",
   "execution_count": 30,
   "id": "324b2f6a",
   "metadata": {},
   "outputs": [],
   "source": [
    "l = [1,4,3,-5,0,10,-20,40]"
   ]
  },
  {
   "cell_type": "code",
   "execution_count": 31,
   "id": "0643bc09",
   "metadata": {},
   "outputs": [
    {
     "name": "stdout",
     "output_type": "stream",
     "text": [
      "33\n"
     ]
    }
   ],
   "source": [
    "print(sum(l))"
   ]
  },
  {
   "cell_type": "code",
   "execution_count": 32,
   "id": "7cef4668",
   "metadata": {},
   "outputs": [
    {
     "name": "stdout",
     "output_type": "stream",
     "text": [
      "40\n"
     ]
    }
   ],
   "source": [
    "print(max(l))"
   ]
  },
  {
   "cell_type": "code",
   "execution_count": 33,
   "id": "86581d49",
   "metadata": {},
   "outputs": [
    {
     "name": "stdout",
     "output_type": "stream",
     "text": [
      "-20\n"
     ]
    }
   ],
   "source": [
    "print(min(l))"
   ]
  },
  {
   "cell_type": "markdown",
   "id": "92c8c74d",
   "metadata": {},
   "source": [
    "### TASK 3"
   ]
  },
  {
   "cell_type": "markdown",
   "id": "b61da113",
   "metadata": {},
   "source": [
    "Load a CSV file using Pandas, identify and fill missing values, remove duplicates, and plot a histogram of a numeric column."
   ]
  },
  {
   "cell_type": "code",
   "execution_count": 34,
   "id": "35d32b24",
   "metadata": {},
   "outputs": [],
   "source": [
    "import pandas as pd"
   ]
  },
  {
   "cell_type": "code",
   "execution_count": 35,
   "id": "9cdf2343",
   "metadata": {
    "scrolled": true
   },
   "outputs": [
    {
     "name": "stdout",
     "output_type": "stream",
     "text": [
      "EMPTY\n",
      "Cardinal Slant-D« Ring Binder, Heavy Gauge Vinyl\n",
      "Cardinal Slant-D« Ring Binder, Heavy Gauge Vinyl\n",
      "EMPTY\n",
      "G.E. Longer-Life Indoor Recessed Floodlight Bulbs\n",
      "Angle-D Binders with Locking Rings, Label Holders\n",
      "SAFCO Mobile Desk Side File, Wire Frame\n",
      "EMPTY\n",
      "Xerox 198\n"
     ]
    },
    {
     "data": {
      "text/html": [
       "<div>\n",
       "<style scoped>\n",
       "    .dataframe tbody tr th:only-of-type {\n",
       "        vertical-align: middle;\n",
       "    }\n",
       "\n",
       "    .dataframe tbody tr th {\n",
       "        vertical-align: top;\n",
       "    }\n",
       "\n",
       "    .dataframe thead th {\n",
       "        text-align: right;\n",
       "    }\n",
       "</style>\n",
       "<table border=\"1\" class=\"dataframe\">\n",
       "  <thead>\n",
       "    <tr style=\"text-align: right;\">\n",
       "      <th></th>\n",
       "      <th>Company</th>\n",
       "      <th>Name</th>\n",
       "      <th>age</th>\n",
       "    </tr>\n",
       "    <tr>\n",
       "      <th>id</th>\n",
       "      <th></th>\n",
       "      <th></th>\n",
       "      <th></th>\n",
       "    </tr>\n",
       "  </thead>\n",
       "  <tbody>\n",
       "    <tr>\n",
       "      <th>2</th>\n",
       "      <td>True</td>\n",
       "      <td>False</td>\n",
       "      <td>False</td>\n",
       "    </tr>\n",
       "    <tr>\n",
       "      <th>3</th>\n",
       "      <td>False</td>\n",
       "      <td>False</td>\n",
       "      <td>False</td>\n",
       "    </tr>\n",
       "    <tr>\n",
       "      <th>3</th>\n",
       "      <td>False</td>\n",
       "      <td>False</td>\n",
       "      <td>False</td>\n",
       "    </tr>\n",
       "    <tr>\n",
       "      <th>5</th>\n",
       "      <td>True</td>\n",
       "      <td>False</td>\n",
       "      <td>True</td>\n",
       "    </tr>\n",
       "    <tr>\n",
       "      <th>6</th>\n",
       "      <td>False</td>\n",
       "      <td>False</td>\n",
       "      <td>False</td>\n",
       "    </tr>\n",
       "    <tr>\n",
       "      <th>7</th>\n",
       "      <td>False</td>\n",
       "      <td>True</td>\n",
       "      <td>True</td>\n",
       "    </tr>\n",
       "    <tr>\n",
       "      <th>8</th>\n",
       "      <td>False</td>\n",
       "      <td>False</td>\n",
       "      <td>False</td>\n",
       "    </tr>\n",
       "    <tr>\n",
       "      <th>9</th>\n",
       "      <td>True</td>\n",
       "      <td>False</td>\n",
       "      <td>False</td>\n",
       "    </tr>\n",
       "    <tr>\n",
       "      <th>10</th>\n",
       "      <td>False</td>\n",
       "      <td>True</td>\n",
       "      <td>True</td>\n",
       "    </tr>\n",
       "  </tbody>\n",
       "</table>\n",
       "</div>"
      ],
      "text/plain": [
       "    Company   Name    age\n",
       "id                       \n",
       "2      True  False  False\n",
       "3     False  False  False\n",
       "3     False  False  False\n",
       "5      True  False   True\n",
       "6     False  False  False\n",
       "7     False   True   True\n",
       "8     False  False  False\n",
       "9      True  False  False\n",
       "10    False   True   True"
      ]
     },
     "execution_count": 35,
     "metadata": {},
     "output_type": "execute_result"
    }
   ],
   "source": [
    "# LOAD CSV FILE\n",
    "data = pd.read_csv(\"Sample.csv\", encoding=\"cp852\",delimiter=\",\",index_col=0)\n",
    "df = pd.DataFrame(data=data)\n",
    "\n",
    "# IDENTIFY MISSING VALUES\n",
    "for index, row in df.iterrows():\n",
    "    if pd.isna(row['Company']):\n",
    "        print(\"EMPTY\")\n",
    "    else:\n",
    "        print(row['Company'])\n",
    "\n",
    "# IDENTIFY MISSING VALUES OTHER WAYS\n",
    "df.isna()\n",
    "df.isnull()"
   ]
  },
  {
   "cell_type": "code",
   "execution_count": 36,
   "id": "cac4e8a7",
   "metadata": {},
   "outputs": [
    {
     "data": {
      "text/html": [
       "<div>\n",
       "<style scoped>\n",
       "    .dataframe tbody tr th:only-of-type {\n",
       "        vertical-align: middle;\n",
       "    }\n",
       "\n",
       "    .dataframe tbody tr th {\n",
       "        vertical-align: top;\n",
       "    }\n",
       "\n",
       "    .dataframe thead th {\n",
       "        text-align: right;\n",
       "    }\n",
       "</style>\n",
       "<table border=\"1\" class=\"dataframe\">\n",
       "  <thead>\n",
       "    <tr style=\"text-align: right;\">\n",
       "      <th></th>\n",
       "      <th>Company</th>\n",
       "      <th>Name</th>\n",
       "      <th>age</th>\n",
       "    </tr>\n",
       "    <tr>\n",
       "      <th>id</th>\n",
       "      <th></th>\n",
       "      <th></th>\n",
       "      <th></th>\n",
       "    </tr>\n",
       "  </thead>\n",
       "  <tbody>\n",
       "    <tr>\n",
       "      <th>2</th>\n",
       "      <td>NaN</td>\n",
       "      <td>Barry French</td>\n",
       "      <td>12.0</td>\n",
       "    </tr>\n",
       "    <tr>\n",
       "      <th>3</th>\n",
       "      <td>Cardinal Slant-D« Ring Binder, Heavy Gauge Vinyl</td>\n",
       "      <td>Barry French</td>\n",
       "      <td>34.0</td>\n",
       "    </tr>\n",
       "    <tr>\n",
       "      <th>3</th>\n",
       "      <td>Cardinal Slant-D« Ring Binder, Heavy Gauge Vinyl</td>\n",
       "      <td>Barry French</td>\n",
       "      <td>34.0</td>\n",
       "    </tr>\n",
       "    <tr>\n",
       "      <th>5</th>\n",
       "      <td>Cardinal Slant-D« Ring Binder, Heavy Gauge Vinyl</td>\n",
       "      <td>Carlos Soltero</td>\n",
       "      <td>34.0</td>\n",
       "    </tr>\n",
       "    <tr>\n",
       "      <th>6</th>\n",
       "      <td>G.E. Longer-Life Indoor Recessed Floodlight Bulbs</td>\n",
       "      <td>Carlos Soltero</td>\n",
       "      <td>65.0</td>\n",
       "    </tr>\n",
       "    <tr>\n",
       "      <th>7</th>\n",
       "      <td>Angle-D Binders with Locking Rings, Label Holders</td>\n",
       "      <td>Carlos Soltero</td>\n",
       "      <td>65.0</td>\n",
       "    </tr>\n",
       "    <tr>\n",
       "      <th>8</th>\n",
       "      <td>SAFCO Mobile Desk Side File, Wire Frame</td>\n",
       "      <td>Carl Jackson</td>\n",
       "      <td>47.0</td>\n",
       "    </tr>\n",
       "    <tr>\n",
       "      <th>9</th>\n",
       "      <td>SAFCO Mobile Desk Side File, Wire Frame</td>\n",
       "      <td>Monica Federle</td>\n",
       "      <td>54.0</td>\n",
       "    </tr>\n",
       "    <tr>\n",
       "      <th>10</th>\n",
       "      <td>Xerox 198</td>\n",
       "      <td>Monica Federle</td>\n",
       "      <td>54.0</td>\n",
       "    </tr>\n",
       "  </tbody>\n",
       "</table>\n",
       "</div>"
      ],
      "text/plain": [
       "                                              Company            Name   age\n",
       "id                                                                         \n",
       "2                                                 NaN    Barry French  12.0\n",
       "3    Cardinal Slant-D« Ring Binder, Heavy Gauge Vinyl    Barry French  34.0\n",
       "3    Cardinal Slant-D« Ring Binder, Heavy Gauge Vinyl    Barry French  34.0\n",
       "5    Cardinal Slant-D« Ring Binder, Heavy Gauge Vinyl  Carlos Soltero  34.0\n",
       "6   G.E. Longer-Life Indoor Recessed Floodlight Bulbs  Carlos Soltero  65.0\n",
       "7   Angle-D Binders with Locking Rings, Label Holders  Carlos Soltero  65.0\n",
       "8             SAFCO Mobile Desk Side File, Wire Frame    Carl Jackson  47.0\n",
       "9             SAFCO Mobile Desk Side File, Wire Frame  Monica Federle  54.0\n",
       "10                                          Xerox 198  Monica Federle  54.0"
      ]
     },
     "execution_count": 36,
     "metadata": {},
     "output_type": "execute_result"
    }
   ],
   "source": [
    "# FILL MISSING VALUES\n",
    "df.fillna(\"FILLED\")\n",
    "# OR\n",
    "df.fillna(method='pad')"
   ]
  },
  {
   "cell_type": "code",
   "execution_count": 37,
   "id": "1fd80365",
   "metadata": {},
   "outputs": [
    {
     "data": {
      "text/html": [
       "<div>\n",
       "<style scoped>\n",
       "    .dataframe tbody tr th:only-of-type {\n",
       "        vertical-align: middle;\n",
       "    }\n",
       "\n",
       "    .dataframe tbody tr th {\n",
       "        vertical-align: top;\n",
       "    }\n",
       "\n",
       "    .dataframe thead th {\n",
       "        text-align: right;\n",
       "    }\n",
       "</style>\n",
       "<table border=\"1\" class=\"dataframe\">\n",
       "  <thead>\n",
       "    <tr style=\"text-align: right;\">\n",
       "      <th></th>\n",
       "      <th>Company</th>\n",
       "      <th>Name</th>\n",
       "      <th>age</th>\n",
       "    </tr>\n",
       "    <tr>\n",
       "      <th>id</th>\n",
       "      <th></th>\n",
       "      <th></th>\n",
       "      <th></th>\n",
       "    </tr>\n",
       "  </thead>\n",
       "  <tbody>\n",
       "    <tr>\n",
       "      <th>2</th>\n",
       "      <td>NaN</td>\n",
       "      <td>Barry French</td>\n",
       "      <td>12.0</td>\n",
       "    </tr>\n",
       "    <tr>\n",
       "      <th>3</th>\n",
       "      <td>Cardinal Slant-D« Ring Binder, Heavy Gauge Vinyl</td>\n",
       "      <td>Barry French</td>\n",
       "      <td>34.0</td>\n",
       "    </tr>\n",
       "    <tr>\n",
       "      <th>5</th>\n",
       "      <td>NaN</td>\n",
       "      <td>Carlos Soltero</td>\n",
       "      <td>NaN</td>\n",
       "    </tr>\n",
       "    <tr>\n",
       "      <th>6</th>\n",
       "      <td>G.E. Longer-Life Indoor Recessed Floodlight Bulbs</td>\n",
       "      <td>Carlos Soltero</td>\n",
       "      <td>65.0</td>\n",
       "    </tr>\n",
       "    <tr>\n",
       "      <th>7</th>\n",
       "      <td>Angle-D Binders with Locking Rings, Label Holders</td>\n",
       "      <td>NaN</td>\n",
       "      <td>NaN</td>\n",
       "    </tr>\n",
       "    <tr>\n",
       "      <th>8</th>\n",
       "      <td>SAFCO Mobile Desk Side File, Wire Frame</td>\n",
       "      <td>Carl Jackson</td>\n",
       "      <td>47.0</td>\n",
       "    </tr>\n",
       "    <tr>\n",
       "      <th>9</th>\n",
       "      <td>NaN</td>\n",
       "      <td>Monica Federle</td>\n",
       "      <td>54.0</td>\n",
       "    </tr>\n",
       "    <tr>\n",
       "      <th>10</th>\n",
       "      <td>Xerox 198</td>\n",
       "      <td>NaN</td>\n",
       "      <td>NaN</td>\n",
       "    </tr>\n",
       "  </tbody>\n",
       "</table>\n",
       "</div>"
      ],
      "text/plain": [
       "                                              Company            Name   age\n",
       "id                                                                         \n",
       "2                                                 NaN    Barry French  12.0\n",
       "3    Cardinal Slant-D« Ring Binder, Heavy Gauge Vinyl    Barry French  34.0\n",
       "5                                                 NaN  Carlos Soltero   NaN\n",
       "6   G.E. Longer-Life Indoor Recessed Floodlight Bulbs  Carlos Soltero  65.0\n",
       "7   Angle-D Binders with Locking Rings, Label Holders             NaN   NaN\n",
       "8             SAFCO Mobile Desk Side File, Wire Frame    Carl Jackson  47.0\n",
       "9                                                 NaN  Monica Federle  54.0\n",
       "10                                          Xerox 198             NaN   NaN"
      ]
     },
     "execution_count": 37,
     "metadata": {},
     "output_type": "execute_result"
    }
   ],
   "source": [
    "# REMOVE DUPLICATES\n",
    "new_df = df.drop_duplicates()\n",
    "new_df"
   ]
  },
  {
   "cell_type": "code",
   "execution_count": 38,
   "id": "3eb6f41e",
   "metadata": {},
   "outputs": [
    {
     "data": {
      "text/plain": [
       "<Axes: ylabel='Frequency'>"
      ]
     },
     "execution_count": 38,
     "metadata": {},
     "output_type": "execute_result"
    },
    {
     "data": {
      "image/png": "[encoded data removed]",
      "text/plain": [
       "<Figure size 640x480 with 1 Axes>"
      ]
     },
     "metadata": {},
     "output_type": "display_data"
    },
    {
     "data": {
      "image/png": "[encoded data removed]",
      "text/plain": [
       "<Figure size 640x480 with 1 Axes>"
      ]
     },
     "metadata": {},
     "output_type": "display_data"
    }
   ],
   "source": [
    "# PLOT HISTOGRAM\n",
    "df.plot.hist()\n",
    "# OR\n",
    "df.plot.hist(column=['age'])"
   ]
  },
  {
   "cell_type": "markdown",
   "id": "e7b30cc3",
   "metadata": {},
   "source": [
    "### TASK 4"
   ]
  },
  {
   "cell_type": "markdown",
   "id": "365102d0",
   "metadata": {},
   "source": [
    "Analyze a dataset using Pandas, calculate the mean and median of a numerical column, and find the mode of a categorical column."
   ]
  },
  {
   "cell_type": "code",
   "execution_count": 39,
   "id": "0e5492b3",
   "metadata": {},
   "outputs": [
    {
     "name": "stdout",
     "output_type": "stream",
     "text": [
      "Median: 60.0\n",
      "Mean: 58.75\n",
      "Mode:\n",
      "0    teacher\n",
      "Name: job, dtype: object\n"
     ]
    }
   ],
   "source": [
    "data = {'name': [\"Johar\", \"Jhon\", \"Jake\", \"Joe\"], \n",
    "        'age': [45, 90, 25 ,75], \n",
    "        'job': ['teacher','engineer','teacher','doctor']}\n",
    "\n",
    "df = pd.DataFrame(data)\n",
    "median = df['age'].median()\n",
    "mean = df['age'].mean()\n",
    "mode = df['job'].mode()\n",
    "\n",
    "print(\"Median: {}\\nMean: {}\\nMode:\\n{}\".format(median, mean, mode))"
   ]
  },
  {
   "cell_type": "markdown",
   "id": "19c2155d",
   "metadata": {},
   "source": [
    "### TASK 5"
   ]
  },
  {
   "cell_type": "markdown",
   "id": "9ed720f1",
   "metadata": {},
   "source": [
    "Plot a line chart showing the trend of a numerical variable over time and create a bar chart to compare the values of different categories."
   ]
  },
  {
   "cell_type": "code",
   "execution_count": 40,
   "id": "d0ff3498",
   "metadata": {},
   "outputs": [
    {
     "name": "stdout",
     "output_type": "stream",
     "text": [
      "Requirement already satisfied: matplotlib in d:\\apps\\anaconda\\files\\lib\\site-packages (3.7.1)\n",
      "Requirement already satisfied: contourpy>=1.0.1 in d:\\apps\\anaconda\\files\\lib\\site-packages (from matplotlib) (1.0.5)\n",
      "Requirement already satisfied: cycler>=0.10 in d:\\apps\\anaconda\\files\\lib\\site-packages (from matplotlib) (0.11.0)\n",
      "Requirement already satisfied: fonttools>=4.22.0 in d:\\apps\\anaconda\\files\\lib\\site-packages (from matplotlib) (4.25.0)\n",
      "Requirement already satisfied: kiwisolver>=1.0.1 in d:\\apps\\anaconda\\files\\lib\\site-packages (from matplotlib) (1.4.4)\n",
      "Requirement already satisfied: numpy>=1.20 in d:\\apps\\anaconda\\files\\lib\\site-packages (from matplotlib) (1.23.5)\n",
      "Requirement already satisfied: packaging>=20.0 in d:\\apps\\anaconda\\files\\lib\\site-packages (from matplotlib) (23.0)\n",
      "Requirement already satisfied: pillow>=6.2.0 in d:\\apps\\anaconda\\files\\lib\\site-packages (from matplotlib) (9.4.0)\n",
      "Requirement already satisfied: pyparsing>=2.3.1 in d:\\apps\\anaconda\\files\\lib\\site-packages (from matplotlib) (3.0.9)\n",
      "Requirement already satisfied: python-dateutil>=2.7 in d:\\apps\\anaconda\\files\\lib\\site-packages (from matplotlib) (2.8.2)\n",
      "Requirement already satisfied: importlib-resources>=3.2.0 in d:\\apps\\anaconda\\files\\lib\\site-packages (from matplotlib) (5.2.0)\n",
      "Requirement already satisfied: zipp>=3.1.0 in d:\\apps\\anaconda\\files\\lib\\site-packages (from importlib-resources>=3.2.0->matplotlib) (3.11.0)\n",
      "Requirement already satisfied: six>=1.5 in d:\\apps\\anaconda\\files\\lib\\site-packages (from python-dateutil>=2.7->matplotlib) (1.12.0)\n",
      "Note: you may need to restart the kernel to use updated packages.\n"
     ]
    }
   ],
   "source": [
    "pip install matplotlib"
   ]
  },
  {
   "cell_type": "code",
   "execution_count": 41,
   "id": "f404f44b",
   "metadata": {},
   "outputs": [
    {
     "data": {
      "image/png": "[encoded data removed]",
      "text/plain": [
       "<Figure size 640x480 with 1 Axes>"
      ]
     },
     "metadata": {},
     "output_type": "display_data"
    }
   ],
   "source": [
    "import matplotlib.pyplot as plt\n",
    "import numpy as np\n",
    "\n",
    "years = [1947, 1960, 1990, 2000, 2010, 2015, 2023]\n",
    "population = [43, 60, 100, 150, 200, 210, 223]\n",
    "\n",
    "plt.plot(years, population)\n",
    "plt.xlabel(\"Years\")\n",
    "plt.ylabel(\"Population in millions\")\n",
    "plt.show()"
   ]
  },
  {
   "cell_type": "code",
   "execution_count": 42,
   "id": "58f6bda8",
   "metadata": {
    "scrolled": true
   },
   "outputs": [
    {
     "ename": "SyntaxError",
     "evalue": "invalid syntax (2981133317.py, line 6)",
     "output_type": "error",
     "traceback": [
      "\u001b[1;36m  Cell \u001b[1;32mIn[42], line 6\u001b[1;36m\u001b[0m\n\u001b[1;33m    Plot a line chart showing the trend of a numerical variable over time and create a bar chart to compare the values of different categories.### TASK 5\u001b[0m\n\u001b[1;37m    ^\u001b[0m\n\u001b[1;31mSyntaxError\u001b[0m\u001b[1;31m:\u001b[0m invalid syntax\n"
     ]
    }
   ],
   "source": [
    "animals = ['cat', 'lion', 'jaguar', 'crane']\n",
    "total = [12, 30, 5, 50]\n",
    "\n",
    "plt.bar(animals, total, color='orange',width=0.5, edgecolor=\"green\"### TASK 5\n",
    "\n",
    "Plot a line chart showing the trend of a numerical variable over time and create a bar chart to compare the values of different categories.### TASK 5\n",
    "\n",
    "Plot a line chart showing the trend of a numerical variable over time and create a bar chart to compare the values of different categories.)\n",
    "plt.xlabel(\"animal\")\n",
    "plt.ylabel(\"total\")\n",
    "plt.show()"
   ]
  },
  {
   "cell_type": "markdown",
   "id": "fbb9678f",
   "metadata": {},
   "source": [
    "### TASK 6"
   ]
  },
  {
   "cell_type": "markdown",
   "id": "179c1080",
   "metadata": {},
   "source": [
    "Create a NumPy array, perform basic arithmetic operations, and calculate the mean and standard deviation of the array."
   ]
  },
  {
   "cell_type": "code",
   "execution_count": 43,
   "id": "f44ef628",
   "metadata": {},
   "outputs": [
    {
     "name": "stdout",
     "output_type": "stream",
     "text": [
      "[32 23 13 11  3 45]\n",
      "[32 23 13 11  3 45]\n",
      "\n",
      "[ 8 17 -5 -9 -3 -5]\n",
      "[ 8 17 -5 -9 -3 -5]\n",
      "\n",
      "[240  60  36  10   0 500]\n",
      "[240  60  36  10   0 500]\n",
      "\n",
      "[1.66666667 6.66666667 0.44444444 0.1        0.         0.8       ]\n",
      "[1.66666667 6.66666667 0.44444444 0.1        0.         0.8       ]\n",
      "\n",
      "[400 400  16   1   0 400]\n",
      "[400 400  16   1   0 400]\n",
      "\n",
      "[ 8  2  4  1  0 20]\n",
      "[ 8  2  4  1  0 20]\n",
      "\n",
      "0\n",
      "\n",
      "5\n",
      "\n",
      "20\n"
     ]
    }
   ],
   "source": [
    "import numpy as np\n",
    "arr1 = np.array([20, 20, 4, 1, 0, 20])\n",
    "arr2 = np.array([12, 3, 9, 10, 3, 25])\n",
    "\n",
    "print(arr1+arr2)\n",
    "print(np.add(arr1, arr2),end=\"\\n\\n\")\n",
    "\n",
    "print(arr1-arr2)\n",
    "print(np.subtract(arr1, arr2),end=\"\\n\\n\")\n",
    "\n",
    "print(arr1*arr2)\n",
    "print(np.multiply(arr1, arr2),end=\"\\n\\n\")\n",
    "\n",
    "print(arr1/arr2)\n",
    "print(np.divide(arr1, arr2),end=\"\\n\\n\")\n",
    "\n",
    "print(arr1**2)\n",
    "print(np.power(arr1, 2),end=\"\\n\\n\")\n",
    "\n",
    "print(arr1%arr2)\n",
    "print(np.mod(arr1, arr2),end=\"\\n\\n\")\n",
    "\n",
    "# mean and standard deviation\n",
    "print(np.argmax(arr1),end=\"\\n\\n\")\n",
    "print(np.argmax(arr2),end=\"\\n\\n\")\n",
    "\n",
    "counts = np.bincount(arr1)\n",
    "mode = np.argmax(counts)\n",
    "print(mode)"
   ]
  }
 ],
 "metadata": {
  "kernelspec": {
   "display_name": "Python 3 (ipykernel)",
   "language": "python",
   "name": "python3"
  },
  "language_info": {
   "codemirror_mode": {
    "name": "ipython",
    "version": 3
   },
   "file_extension": ".py",
   "mimetype": "text/x-python",
   "name": "python",
   "nbconvert_exporter": "python",
   "pygments_lexer": "ipython3",
   "version": "3.9.12"
  }
 },
 "nbformat": 4,
 "nbformat_minor": 5
}
