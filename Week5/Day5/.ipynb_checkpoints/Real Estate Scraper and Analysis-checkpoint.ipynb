{
 "cells": [
  {
   "cell_type": "markdown",
   "id": "7be6633b",
   "metadata": {},
   "source": [
    "# Zameen.com Data Scraping"
   ]
  },
  {
   "cell_type": "markdown",
   "id": "ed241600",
   "metadata": {},
   "source": [
    "Steps:\n",
    "\n",
    "Data Collection: Create a web scraper to extract property listings and details from the target real estate website.\n",
    "    \n",
    "Data Cleaning: Clean and preprocess the scraped data, handle missing values, and ensure data consistency.\n",
    "    \n",
    "Data Storage: Save the cleaned data in a structured format, such as a CSV or a database.\n",
    "    \n",
    "Data Analysis: Perform basic exploratory data analysis to gain insights into the collected property data.\n",
    "\n",
    "Deployment: Provide the client with the scraped and cleaned dataset, along with the web scraper code."
   ]
  },
  {
   "cell_type": "code",
   "execution_count": 1,
   "id": "26f0ffa3",
   "metadata": {},
   "outputs": [],
   "source": [
    "import pandas as pd\n",
    "import seaborn as sns\n",
    "import matplotlib.pyplot as plt\n",
    "from bs4 import BeautifulSoup\n",
    "import requests"
   ]
  },
  {
   "cell_type": "markdown",
   "id": "82bd826a",
   "metadata": {},
   "source": [
    "# Data Collection"
   ]
  },
  {
   "cell_type": "code",
   "execution_count": null,
   "id": "1b180ce4",
   "metadata": {},
   "outputs": [],
   "source": [
    "url = \"https://www.zameen.com/\"\n",
    "\n",
    "response = requests.get(url)\n",
    "doc = BeautifulSoup(response.text)"
   ]
  },
  {
   "cell_type": "code",
   "execution_count": null,
   "id": "41d47cd3",
   "metadata": {},
   "outputs": [],
   "source": [
    "ul_tags = doc.find_all(\"ul\", {\"class\": \"_22762832 e1d5c7a7\"})\n",
    "\n",
    "all_links = []\n",
    "for ul in ul_tags:\n",
    "    link_tags = ul.find_all('a')\n",
    "    for i in range(len(link_tags)-2):\n",
    "        all_links.append(link_tags[i].get('href'))"
   ]
  },
  {
   "cell_type": "code",
   "execution_count": null,
   "id": "202ef8cc",
   "metadata": {},
   "outputs": [],
   "source": [
    "data = []\n",
    "\n",
    "for link in all_links:\n",
    "    response = requests.get(f\"https://www.zameen.com{link}\")\n",
    "    document = BeautifulSoup(response.text)\n",
    "\n",
    "    properties_li = document.find_all(attrs={\"role\": \"article\"})\n",
    "\n",
    "    for li in properties_li:\n",
    "        listing = {\n",
    "            \"price\": \"\",\n",
    "            \"location\": \"\",\n",
    "            \"beds\": \"\",\n",
    "            \"baths\": \"\",\n",
    "            \"area\": \"\",\n",
    "            \"title\": \"\",\n",
    "            \"created_at\": \"\"\n",
    "        }\n",
    "        if li.find(attrs={\"aria-label\":\"Price\"}):\n",
    "            listing['price'] = li.find(attrs={\"aria-label\":\"Price\"}).text\n",
    "            \n",
    "        if li.find(attrs={\"aria-label\":\"Location\"}):\n",
    "            listing['location'] = li.find(attrs={\"aria-label\":\"Location\"}).text\n",
    "        \n",
    "        if li.find(attrs={\"aria-label\":\"Beds\"}):\n",
    "            listing['beds'] = li.find(attrs={\"aria-label\":\"Beds\"}).text\n",
    "            \n",
    "        if li.find(attrs={\"aria-label\":\"Baths\"}):\n",
    "            listing['baths'] = li.find(attrs={\"aria-label\":\"Baths\"}).text\n",
    "            \n",
    "        if li.find(attrs={\"aria-label\":\"Area\"}):\n",
    "            listing['area'] = li.find(attrs={\"aria-label\":\"Area\"}).text\n",
    "        \n",
    "        if li.find(attrs={\"aria-label\":\"Title\"}):\n",
    "            listing['title'] = li.find(attrs={\"aria-label\":\"Title\"}).text\n",
    "           \n",
    "        if li.find(attrs={\"aria-label\":\"Listing creation date\"}):\n",
    "            listing['created_at'] = li.find(attrs={\"aria-label\":\"Listing creation date\"}).text\n",
    "        data.append(listing)\n",
    "            \n",
    "data"
   ]
  },
  {
   "cell_type": "code",
   "execution_count": 35,
   "id": "5b451328",
   "metadata": {},
   "outputs": [
    {
     "data": {
      "text/plain": [
       "886"
      ]
     },
     "execution_count": 35,
     "metadata": {},
     "output_type": "execute_result"
    }
   ],
   "source": [
    "len(data)"
   ]
  },
  {
   "cell_type": "markdown",
   "id": "a21d7811",
   "metadata": {},
   "source": [
    "# Data Storing to CSV File"
   ]
  },
  {
   "cell_type": "code",
   "execution_count": 40,
   "id": "975a82fb",
   "metadata": {},
   "outputs": [],
   "source": [
    "data_df = pd.DataFrame(data)\n",
    "data_df.to_csv(\"property_data.csv\")"
   ]
  },
  {
   "cell_type": "markdown",
   "id": "f5ba5f24",
   "metadata": {},
   "source": [
    "# Read Data from .csv"
   ]
  },
  {
   "cell_type": "code",
   "execution_count": 5,
   "id": "7ee38977",
   "metadata": {},
   "outputs": [],
   "source": [
    "listing_df = pd.read_csv(\"property_data.csv\", index_col=0)"
   ]
  },
  {
   "cell_type": "code",
   "execution_count": 6,
   "id": "a80275f5",
   "metadata": {},
   "outputs": [
    {
     "data": {
      "text/html": [
       "<div>\n",
       "<style scoped>\n",
       "    .dataframe tbody tr th:only-of-type {\n",
       "        vertical-align: middle;\n",
       "    }\n",
       "\n",
       "    .dataframe tbody tr th {\n",
       "        vertical-align: top;\n",
       "    }\n",
       "\n",
       "    .dataframe thead th {\n",
       "        text-align: right;\n",
       "    }\n",
       "</style>\n",
       "<table border=\"1\" class=\"dataframe\">\n",
       "  <thead>\n",
       "    <tr style=\"text-align: right;\">\n",
       "      <th></th>\n",
       "      <th>price</th>\n",
       "      <th>location</th>\n",
       "      <th>beds</th>\n",
       "      <th>baths</th>\n",
       "      <th>area</th>\n",
       "      <th>title</th>\n",
       "      <th>created_at</th>\n",
       "    </tr>\n",
       "  </thead>\n",
       "  <tbody>\n",
       "    <tr>\n",
       "      <th>0</th>\n",
       "      <td>11.75 Crore</td>\n",
       "      <td>DHA Phase 6, DHA Defence</td>\n",
       "      <td>5.0</td>\n",
       "      <td>6.0</td>\n",
       "      <td>1 Kanal</td>\n",
       "      <td>1-Kanal Brand New Modern Most Luxurious Fully ...</td>\n",
       "      <td>Added: 12 minutes ago</td>\n",
       "    </tr>\n",
       "    <tr>\n",
       "      <th>1</th>\n",
       "      <td>35 Crore</td>\n",
       "      <td>DHA Phase 6, DHA Defence</td>\n",
       "      <td>5.0</td>\n",
       "      <td>6.0</td>\n",
       "      <td>2 Kanal</td>\n",
       "      <td>2-kanal Brand New Facing Park Most Luxurious F...</td>\n",
       "      <td>Added: 12 minutes ago</td>\n",
       "    </tr>\n",
       "    <tr>\n",
       "      <th>2</th>\n",
       "      <td>65 Crore</td>\n",
       "      <td>DHA Phase 7, DHA Defence</td>\n",
       "      <td>5.0</td>\n",
       "      <td>6.0</td>\n",
       "      <td>5 Kanal</td>\n",
       "      <td>5 Kanal Fully Furnished Brand New Classical Sp...</td>\n",
       "      <td>Added: 22 minutes ago</td>\n",
       "    </tr>\n",
       "    <tr>\n",
       "      <th>3</th>\n",
       "      <td>7.12 Crore</td>\n",
       "      <td>DHA Phase 6, DHA Defence</td>\n",
       "      <td>5.0</td>\n",
       "      <td>6.0</td>\n",
       "      <td>1 Kanal</td>\n",
       "      <td>Magnificent 1 Kanal Ultra spainsh Brand New Lu...</td>\n",
       "      <td>Added: 34 minutes ago</td>\n",
       "    </tr>\n",
       "    <tr>\n",
       "      <th>4</th>\n",
       "      <td>2.05 Crore</td>\n",
       "      <td>DHA 9 Town, DHA Defence</td>\n",
       "      <td>3.0</td>\n",
       "      <td>4.0</td>\n",
       "      <td>5 Marla</td>\n",
       "      <td>Corner House For Sale In Dha Lahore Near To Pa...</td>\n",
       "      <td>Added: 49 minutes ago</td>\n",
       "    </tr>\n",
       "  </tbody>\n",
       "</table>\n",
       "</div>"
      ],
      "text/plain": [
       "         price                  location  beds  baths     area  \\\n",
       "0  11.75 Crore  DHA Phase 6, DHA Defence   5.0    6.0  1 Kanal   \n",
       "1     35 Crore  DHA Phase 6, DHA Defence   5.0    6.0  2 Kanal   \n",
       "2     65 Crore  DHA Phase 7, DHA Defence   5.0    6.0  5 Kanal   \n",
       "3   7.12 Crore  DHA Phase 6, DHA Defence   5.0    6.0  1 Kanal   \n",
       "4   2.05 Crore   DHA 9 Town, DHA Defence   3.0    4.0  5 Marla   \n",
       "\n",
       "                                               title             created_at  \n",
       "0  1-Kanal Brand New Modern Most Luxurious Fully ...  Added: 12 minutes ago  \n",
       "1  2-kanal Brand New Facing Park Most Luxurious F...  Added: 12 minutes ago  \n",
       "2  5 Kanal Fully Furnished Brand New Classical Sp...  Added: 22 minutes ago  \n",
       "3  Magnificent 1 Kanal Ultra spainsh Brand New Lu...  Added: 34 minutes ago  \n",
       "4  Corner House For Sale In Dha Lahore Near To Pa...  Added: 49 minutes ago  "
      ]
     },
     "execution_count": 6,
     "metadata": {},
     "output_type": "execute_result"
    }
   ],
   "source": [
    "listing_df.head()"
   ]
  },
  {
   "cell_type": "markdown",
   "id": "4b166e66",
   "metadata": {},
   "source": [
    "# Preprocess and Clean Data"
   ]
  },
  {
   "cell_type": "code",
   "execution_count": 7,
   "id": "584cd014",
   "metadata": {},
   "outputs": [],
   "source": [
    "# convert prices to number\n",
    "def convertPrice(price):\n",
    "    if price.endswith(\"Crore\"):\n",
    "        return float(\"11.75 Crore\".replace('Crore', '').strip()) * 10000000\n",
    "    elif price.endswith(\"Lakh\"):\n",
    "        return float(\"11.75 Lakh\".replace('Lakh', '').strip()) * 100000\n",
    "    elif price.endswith(\"Thousand\"):\n",
    "        return float(\"11.75 Lakh\".replace('Lakh', '').strip()) * 1000\n",
    "\n",
    "listing_df['price_pkr'] = listing_df['price'].apply(convertPrice)"
   ]
  },
  {
   "cell_type": "code",
   "execution_count": 8,
   "id": "fe61e968",
   "metadata": {},
   "outputs": [
    {
     "data": {
      "text/html": [
       "<div>\n",
       "<style scoped>\n",
       "    .dataframe tbody tr th:only-of-type {\n",
       "        vertical-align: middle;\n",
       "    }\n",
       "\n",
       "    .dataframe tbody tr th {\n",
       "        vertical-align: top;\n",
       "    }\n",
       "\n",
       "    .dataframe thead th {\n",
       "        text-align: right;\n",
       "    }\n",
       "</style>\n",
       "<table border=\"1\" class=\"dataframe\">\n",
       "  <thead>\n",
       "    <tr style=\"text-align: right;\">\n",
       "      <th></th>\n",
       "      <th>price</th>\n",
       "      <th>location</th>\n",
       "      <th>beds</th>\n",
       "      <th>baths</th>\n",
       "      <th>area</th>\n",
       "      <th>title</th>\n",
       "      <th>created_at</th>\n",
       "      <th>price_pkr</th>\n",
       "    </tr>\n",
       "  </thead>\n",
       "  <tbody>\n",
       "    <tr>\n",
       "      <th>0</th>\n",
       "      <td>11.75 Crore</td>\n",
       "      <td>DHA Phase 6, DHA Defence</td>\n",
       "      <td>5.0</td>\n",
       "      <td>6.0</td>\n",
       "      <td>1 Kanal</td>\n",
       "      <td>1-Kanal Brand New Modern Most Luxurious Fully ...</td>\n",
       "      <td>Added: 12 minutes ago</td>\n",
       "      <td>117500000.0</td>\n",
       "    </tr>\n",
       "    <tr>\n",
       "      <th>1</th>\n",
       "      <td>35 Crore</td>\n",
       "      <td>DHA Phase 6, DHA Defence</td>\n",
       "      <td>5.0</td>\n",
       "      <td>6.0</td>\n",
       "      <td>2 Kanal</td>\n",
       "      <td>2-kanal Brand New Facing Park Most Luxurious F...</td>\n",
       "      <td>Added: 12 minutes ago</td>\n",
       "      <td>117500000.0</td>\n",
       "    </tr>\n",
       "  </tbody>\n",
       "</table>\n",
       "</div>"
      ],
      "text/plain": [
       "         price                  location  beds  baths     area  \\\n",
       "0  11.75 Crore  DHA Phase 6, DHA Defence   5.0    6.0  1 Kanal   \n",
       "1     35 Crore  DHA Phase 6, DHA Defence   5.0    6.0  2 Kanal   \n",
       "\n",
       "                                               title             created_at  \\\n",
       "0  1-Kanal Brand New Modern Most Luxurious Fully ...  Added: 12 minutes ago   \n",
       "1  2-kanal Brand New Facing Park Most Luxurious F...  Added: 12 minutes ago   \n",
       "\n",
       "     price_pkr  \n",
       "0  117500000.0  \n",
       "1  117500000.0  "
      ]
     },
     "execution_count": 8,
     "metadata": {},
     "output_type": "execute_result"
    }
   ],
   "source": [
    "listing_df.head(2)"
   ]
  },
  {
   "cell_type": "code",
   "execution_count": 9,
   "id": "fb60a01a",
   "metadata": {},
   "outputs": [
    {
     "data": {
      "text/plain": [
       "price           0\n",
       "location        0\n",
       "beds          105\n",
       "baths         111\n",
       "area           45\n",
       "title           0\n",
       "created_at      0\n",
       "price_pkr       0\n",
       "dtype: int64"
      ]
     },
     "execution_count": 9,
     "metadata": {},
     "output_type": "execute_result"
    }
   ],
   "source": [
    "listing_df.isna().sum()"
   ]
  },
  {
   "cell_type": "code",
   "execution_count": 10,
   "id": "f5df0ec8",
   "metadata": {},
   "outputs": [],
   "source": [
    "listing_df['beds'].fillna(listing_df['beds'].mode()[0], inplace=True)\n",
    "listing_df['baths'].fillna(listing_df['baths'].mode()[0], inplace=True)\n",
    "listing_df['area'].fillna(listing_df['area'].mode()[0], inplace=True)"
   ]
  },
  {
   "cell_type": "code",
   "execution_count": 11,
   "id": "7903a0d6",
   "metadata": {},
   "outputs": [
    {
     "data": {
      "text/plain": [
       "price         0\n",
       "location      0\n",
       "beds          0\n",
       "baths         0\n",
       "area          0\n",
       "title         0\n",
       "created_at    0\n",
       "price_pkr     0\n",
       "dtype: int64"
      ]
     },
     "execution_count": 11,
     "metadata": {},
     "output_type": "execute_result"
    }
   ],
   "source": [
    "listing_df.isna().sum()"
   ]
  },
  {
   "cell_type": "markdown",
   "id": "8bed212f",
   "metadata": {},
   "source": [
    "# Data Visualizations"
   ]
  },
  {
   "cell_type": "code",
   "execution_count": 12,
   "id": "e2c2eb64",
   "metadata": {},
   "outputs": [
    {
     "data": {
      "text/plain": [
       "<seaborn.axisgrid.PairGrid at 0x22cc4650670>"
      ]
     },
     "execution_count": 12,
     "metadata": {},
     "output_type": "execute_result"
    },
    {
     "data": {
      "image/png": "[encoded data removed]",
      "text/plain": [
       "<Figure size 750x750 with 12 Axes>"
      ]
     },
     "metadata": {},
     "output_type": "display_data"
    }
   ],
   "source": [
    "sns.pairplot(listing_df)"
   ]
  },
  {
   "cell_type": "code",
   "execution_count": 18,
   "id": "e33f8309",
   "metadata": {},
   "outputs": [
    {
     "data": {
      "text/html": [
       "<div>\n",
       "<style scoped>\n",
       "    .dataframe tbody tr th:only-of-type {\n",
       "        vertical-align: middle;\n",
       "    }\n",
       "\n",
       "    .dataframe tbody tr th {\n",
       "        vertical-align: top;\n",
       "    }\n",
       "\n",
       "    .dataframe thead th {\n",
       "        text-align: right;\n",
       "    }\n",
       "</style>\n",
       "<table border=\"1\" class=\"dataframe\">\n",
       "  <thead>\n",
       "    <tr style=\"text-align: right;\">\n",
       "      <th></th>\n",
       "      <th>price</th>\n",
       "      <th>location</th>\n",
       "      <th>beds</th>\n",
       "      <th>baths</th>\n",
       "      <th>area</th>\n",
       "      <th>title</th>\n",
       "      <th>created_at</th>\n",
       "      <th>price_pkr</th>\n",
       "    </tr>\n",
       "  </thead>\n",
       "  <tbody>\n",
       "    <tr>\n",
       "      <th>0</th>\n",
       "      <td>11.75 Crore</td>\n",
       "      <td>DHA Phase 6, DHA Defence</td>\n",
       "      <td>5.0</td>\n",
       "      <td>6.0</td>\n",
       "      <td>1 Kanal</td>\n",
       "      <td>1-Kanal Brand New Modern Most Luxurious Fully ...</td>\n",
       "      <td>Added: 12 minutes ago</td>\n",
       "      <td>117500000.0</td>\n",
       "    </tr>\n",
       "    <tr>\n",
       "      <th>270</th>\n",
       "      <td>1.22 Crore</td>\n",
       "      <td>DHA Defence - Villa Community, DHA Defence</td>\n",
       "      <td>3.0</td>\n",
       "      <td>3.0</td>\n",
       "      <td>6 Marla</td>\n",
       "      <td>This Is Your Chance To Buy House In Bahawalpur</td>\n",
       "      <td>Added: 17 hours ago</td>\n",
       "      <td>117500000.0</td>\n",
       "    </tr>\n",
       "    <tr>\n",
       "      <th>281</th>\n",
       "      <td>1.45 Crore</td>\n",
       "      <td>Gulfam Town Society, Abbottabad</td>\n",
       "      <td>3.0</td>\n",
       "      <td>3.0</td>\n",
       "      <td>7 Marla</td>\n",
       "      <td>7 Marla Single Storey House</td>\n",
       "      <td>Added: 1 day ago</td>\n",
       "      <td>117500000.0</td>\n",
       "    </tr>\n",
       "    <tr>\n",
       "      <th>279</th>\n",
       "      <td>1.2 Crore</td>\n",
       "      <td>Officers Colony, Abbottabad</td>\n",
       "      <td>3.0</td>\n",
       "      <td>3.0</td>\n",
       "      <td>5 Marla</td>\n",
       "      <td>Single Storey House For Sale In Officer Colony...</td>\n",
       "      <td>Added: 37 minutes ago</td>\n",
       "      <td>117500000.0</td>\n",
       "    </tr>\n",
       "    <tr>\n",
       "      <th>278</th>\n",
       "      <td>3.3 Crore</td>\n",
       "      <td>Nawansher, Abbottabad</td>\n",
       "      <td>3.0</td>\n",
       "      <td>6.0</td>\n",
       "      <td>10 Marla</td>\n",
       "      <td>Triple Storey House For Sale In Kohsar Town Ab...</td>\n",
       "      <td>Added: 2 weeks ago</td>\n",
       "      <td>117500000.0</td>\n",
       "    </tr>\n",
       "  </tbody>\n",
       "</table>\n",
       "</div>"
      ],
      "text/plain": [
       "           price                                    location  beds  baths  \\\n",
       "0    11.75 Crore                    DHA Phase 6, DHA Defence   5.0    6.0   \n",
       "270   1.22 Crore  DHA Defence - Villa Community, DHA Defence   3.0    3.0   \n",
       "281   1.45 Crore             Gulfam Town Society, Abbottabad   3.0    3.0   \n",
       "279    1.2 Crore                 Officers Colony, Abbottabad   3.0    3.0   \n",
       "278    3.3 Crore                       Nawansher, Abbottabad   3.0    6.0   \n",
       "\n",
       "         area                                              title  \\\n",
       "0     1 Kanal  1-Kanal Brand New Modern Most Luxurious Fully ...   \n",
       "270   6 Marla     This Is Your Chance To Buy House In Bahawalpur   \n",
       "281   7 Marla                        7 Marla Single Storey House   \n",
       "279   5 Marla  Single Storey House For Sale In Officer Colony...   \n",
       "278  10 Marla  Triple Storey House For Sale In Kohsar Town Ab...   \n",
       "\n",
       "                created_at    price_pkr  \n",
       "0    Added: 12 minutes ago  117500000.0  \n",
       "270    Added: 17 hours ago  117500000.0  \n",
       "281       Added: 1 day ago  117500000.0  \n",
       "279  Added: 37 minutes ago  117500000.0  \n",
       "278     Added: 2 weeks ago  117500000.0  "
      ]
     },
     "execution_count": 18,
     "metadata": {},
     "output_type": "execute_result"
    }
   ],
   "source": [
    "# top 10 expensive plots\n",
    "top_10_expensive = listing_df.sort_values(by='price_pkr', ascending=False).head(5)\n",
    "top_10_expensive"
   ]
  },
  {
   "cell_type": "code",
   "execution_count": 24,
   "id": "88c31b36",
   "metadata": {},
   "outputs": [
    {
     "data": {
      "text/plain": [
       "<Axes: xlabel='baths', ylabel='count'>"
      ]
     },
     "execution_count": 24,
     "metadata": {},
     "output_type": "execute_result"
    },
    {
     "data": {
      "image/png": "[encoded data removed]",
      "text/plain": [
       "<Figure size 640x480 with 1 Axes>"
      ]
     },
     "metadata": {},
     "output_type": "display_data"
    }
   ],
   "source": [
    "sns.countplot(listing_df, x='baths')"
   ]
  },
  {
   "cell_type": "code",
   "execution_count": 26,
   "id": "c39fa1f4",
   "metadata": {},
   "outputs": [
    {
     "data": {
      "text/plain": [
       "<Axes: xlabel='beds', ylabel='count'>"
      ]
     },
     "execution_count": 26,
     "metadata": {},
     "output_type": "execute_result"
    },
    {
     "data": {
      "image/png": "[encoded data removed]",
      "text/plain": [
       "<Figure size 640x480 with 1 Axes>"
      ]
     },
     "metadata": {},
     "output_type": "display_data"
    }
   ],
   "source": [
    "sns.countplot(listing_df, x='beds')"
   ]
  },
  {
   "cell_type": "markdown",
   "id": "b88d7370",
   "metadata": {},
   "source": [
    "# Deployment"
   ]
  },
  {
   "cell_type": "code",
   "execution_count": null,
   "id": "91426510",
   "metadata": {},
   "outputs": [],
   "source": []
  }
 ],
 "metadata": {
  "kernelspec": {
   "display_name": "Python 3 (ipykernel)",
   "language": "python",
   "name": "python3"
  },
  "language_info": {
   "codemirror_mode": {
    "name": "ipython",
    "version": 3
   },
   "file_extension": ".py",
   "mimetype": "text/x-python",
   "name": "python",
   "nbconvert_exporter": "python",
   "pygments_lexer": "ipython3",
   "version": "3.9.12"
  }
 },
 "nbformat": 4,
 "nbformat_minor": 5
}
