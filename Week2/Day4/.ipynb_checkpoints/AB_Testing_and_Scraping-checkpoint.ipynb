{
 "cells": [
  {
   "cell_type": "markdown",
   "id": "d71f3dd6",
   "metadata": {},
   "source": [
    "# Task 1: Experimental design and A/B testing\n",
    "\n",
    "Task: Design and analyze A/B tests for a hypothetical scenario.\n",
    "\n",
    "hypothesize that version B will lead to a higher conversion rate compared to version A."
   ]
  },
  {
   "cell_type": "code",
   "execution_count": 1,
   "id": "bdd99f83",
   "metadata": {},
   "outputs": [],
   "source": [
    "import pandas as pd\n",
    "import numpy as np"
   ]
  },
  {
   "cell_type": "code",
   "execution_count": 43,
   "id": "1858176e",
   "metadata": {},
   "outputs": [
    {
     "data": {
      "text/html": [
       "<div>\n",
       "<style scoped>\n",
       "    .dataframe tbody tr th:only-of-type {\n",
       "        vertical-align: middle;\n",
       "    }\n",
       "\n",
       "    .dataframe tbody tr th {\n",
       "        vertical-align: top;\n",
       "    }\n",
       "\n",
       "    .dataframe thead th {\n",
       "        text-align: right;\n",
       "    }\n",
       "</style>\n",
       "<table border=\"1\" class=\"dataframe\">\n",
       "  <thead>\n",
       "    <tr style=\"text-align: right;\">\n",
       "      <th></th>\n",
       "      <th>Version</th>\n",
       "      <th>Conversion</th>\n",
       "      <th>Click_through</th>\n",
       "      <th>Bounce</th>\n",
       "      <th>Order_Value</th>\n",
       "    </tr>\n",
       "  </thead>\n",
       "  <tbody>\n",
       "    <tr>\n",
       "      <th>0</th>\n",
       "      <td>A</td>\n",
       "      <td>0</td>\n",
       "      <td>1</td>\n",
       "      <td>1</td>\n",
       "      <td>25.005943</td>\n",
       "    </tr>\n",
       "    <tr>\n",
       "      <th>1</th>\n",
       "      <td>A</td>\n",
       "      <td>0</td>\n",
       "      <td>0</td>\n",
       "      <td>1</td>\n",
       "      <td>72.909426</td>\n",
       "    </tr>\n",
       "    <tr>\n",
       "      <th>2</th>\n",
       "      <td>A</td>\n",
       "      <td>0</td>\n",
       "      <td>0</td>\n",
       "      <td>0</td>\n",
       "      <td>36.104275</td>\n",
       "    </tr>\n",
       "    <tr>\n",
       "      <th>3</th>\n",
       "      <td>A</td>\n",
       "      <td>0</td>\n",
       "      <td>1</td>\n",
       "      <td>1</td>\n",
       "      <td>33.546013</td>\n",
       "    </tr>\n",
       "    <tr>\n",
       "      <th>4</th>\n",
       "      <td>A</td>\n",
       "      <td>0</td>\n",
       "      <td>1</td>\n",
       "      <td>0</td>\n",
       "      <td>60.225704</td>\n",
       "    </tr>\n",
       "    <tr>\n",
       "      <th>...</th>\n",
       "      <td>...</td>\n",
       "      <td>...</td>\n",
       "      <td>...</td>\n",
       "      <td>...</td>\n",
       "      <td>...</td>\n",
       "    </tr>\n",
       "    <tr>\n",
       "      <th>995</th>\n",
       "      <td>B</td>\n",
       "      <td>0</td>\n",
       "      <td>0</td>\n",
       "      <td>1</td>\n",
       "      <td>48.425546</td>\n",
       "    </tr>\n",
       "    <tr>\n",
       "      <th>996</th>\n",
       "      <td>B</td>\n",
       "      <td>0</td>\n",
       "      <td>0</td>\n",
       "      <td>1</td>\n",
       "      <td>66.071587</td>\n",
       "    </tr>\n",
       "    <tr>\n",
       "      <th>997</th>\n",
       "      <td>B</td>\n",
       "      <td>0</td>\n",
       "      <td>1</td>\n",
       "      <td>0</td>\n",
       "      <td>51.260734</td>\n",
       "    </tr>\n",
       "    <tr>\n",
       "      <th>998</th>\n",
       "      <td>B</td>\n",
       "      <td>0</td>\n",
       "      <td>1</td>\n",
       "      <td>1</td>\n",
       "      <td>85.980673</td>\n",
       "    </tr>\n",
       "    <tr>\n",
       "      <th>999</th>\n",
       "      <td>B</td>\n",
       "      <td>0</td>\n",
       "      <td>0</td>\n",
       "      <td>1</td>\n",
       "      <td>74.286583</td>\n",
       "    </tr>\n",
       "  </tbody>\n",
       "</table>\n",
       "<p>1000 rows × 5 columns</p>\n",
       "</div>"
      ],
      "text/plain": [
       "    Version  Conversion  Click_through  Bounce  Order_Value\n",
       "0         A           0              1       1    25.005943\n",
       "1         A           0              0       1    72.909426\n",
       "2         A           0              0       0    36.104275\n",
       "3         A           0              1       1    33.546013\n",
       "4         A           0              1       0    60.225704\n",
       "..      ...         ...            ...     ...          ...\n",
       "995       B           0              0       1    48.425546\n",
       "996       B           0              0       1    66.071587\n",
       "997       B           0              1       0    51.260734\n",
       "998       B           0              1       1    85.980673\n",
       "999       B           0              0       1    74.286583\n",
       "\n",
       "[1000 rows x 5 columns]"
      ]
     },
     "execution_count": 43,
     "metadata": {},
     "output_type": "execute_result"
    }
   ],
   "source": [
    "np.random.seed(42)\n",
    "\n",
    "# Page/Version A data\n",
    "A_conversion = np.random.binomial(n=1, p=0.02, size=500)\n",
    "A_click_through = np.random.binomial(n=1, p=0.40, size=500)\n",
    "A_bounce = np.random.binomial(n=1, p=0.80, size=500)\n",
    "A_order_value = np.random.normal(loc=50, scale=10, size=500)\n",
    "\n",
    "# Page/Version B data\n",
    "B_conversion = np.random.binomial(n=1, p=0.15, size=500)\n",
    "B_click_through = np.random.binomial(n=1, p=0.45, size=500)\n",
    "B_bounce = np.random.binomial(n=1, p=0.75, size=500)\n",
    "B_order_value = np.random.normal(loc=60, scale=12, size=500)\n",
    "\n",
    "df = pd.DataFrame({\n",
    "    'Version': ['A'] * 500 + ['B'] * 500,\n",
    "    'Conversion': np.concatenate([A_conversion, B_conversion]),\n",
    "    'Click_through': np.concatenate([A_click_through, B_click_through]),\n",
    "    'Bounce': np.concatenate([A_bounce, B_bounce]),\n",
    "    'Order_Value': np.concatenate([A_order_value, B_order_value]),\n",
    "})\n",
    "\n",
    "df"
   ]
  },
  {
   "cell_type": "code",
   "execution_count": 41,
   "id": "ce2b4861",
   "metadata": {},
   "outputs": [
    {
     "data": {
      "text/html": [
       "<div>\n",
       "<style scoped>\n",
       "    .dataframe tbody tr th:only-of-type {\n",
       "        vertical-align: middle;\n",
       "    }\n",
       "\n",
       "    .dataframe tbody tr th {\n",
       "        vertical-align: top;\n",
       "    }\n",
       "\n",
       "    .dataframe thead th {\n",
       "        text-align: right;\n",
       "    }\n",
       "</style>\n",
       "<table border=\"1\" class=\"dataframe\">\n",
       "  <thead>\n",
       "    <tr style=\"text-align: right;\">\n",
       "      <th></th>\n",
       "      <th>Conversion</th>\n",
       "      <th>Click_through</th>\n",
       "      <th>Bounce</th>\n",
       "      <th>Order_Value</th>\n",
       "    </tr>\n",
       "  </thead>\n",
       "  <tbody>\n",
       "    <tr>\n",
       "      <th>count</th>\n",
       "      <td>1000.000000</td>\n",
       "      <td>1000.000000</td>\n",
       "      <td>1000.000000</td>\n",
       "      <td>1000.000000</td>\n",
       "    </tr>\n",
       "    <tr>\n",
       "      <th>mean</th>\n",
       "      <td>0.079000</td>\n",
       "      <td>0.404000</td>\n",
       "      <td>0.765000</td>\n",
       "      <td>55.200524</td>\n",
       "    </tr>\n",
       "    <tr>\n",
       "      <th>std</th>\n",
       "      <td>0.269874</td>\n",
       "      <td>0.490943</td>\n",
       "      <td>0.424211</td>\n",
       "      <td>12.300895</td>\n",
       "    </tr>\n",
       "    <tr>\n",
       "      <th>min</th>\n",
       "      <td>0.000000</td>\n",
       "      <td>0.000000</td>\n",
       "      <td>0.000000</td>\n",
       "      <td>20.786495</td>\n",
       "    </tr>\n",
       "    <tr>\n",
       "      <th>25%</th>\n",
       "      <td>0.000000</td>\n",
       "      <td>0.000000</td>\n",
       "      <td>1.000000</td>\n",
       "      <td>46.768892</td>\n",
       "    </tr>\n",
       "    <tr>\n",
       "      <th>50%</th>\n",
       "      <td>0.000000</td>\n",
       "      <td>0.000000</td>\n",
       "      <td>1.000000</td>\n",
       "      <td>54.572486</td>\n",
       "    </tr>\n",
       "    <tr>\n",
       "      <th>75%</th>\n",
       "      <td>0.000000</td>\n",
       "      <td>1.000000</td>\n",
       "      <td>1.000000</td>\n",
       "      <td>63.593777</td>\n",
       "    </tr>\n",
       "    <tr>\n",
       "      <th>max</th>\n",
       "      <td>1.000000</td>\n",
       "      <td>1.000000</td>\n",
       "      <td>1.000000</td>\n",
       "      <td>107.114852</td>\n",
       "    </tr>\n",
       "  </tbody>\n",
       "</table>\n",
       "</div>"
      ],
      "text/plain": [
       "        Conversion  Click_through       Bounce  Order_Value\n",
       "count  1000.000000    1000.000000  1000.000000  1000.000000\n",
       "mean      0.079000       0.404000     0.765000    55.200524\n",
       "std       0.269874       0.490943     0.424211    12.300895\n",
       "min       0.000000       0.000000     0.000000    20.786495\n",
       "25%       0.000000       0.000000     1.000000    46.768892\n",
       "50%       0.000000       0.000000     1.000000    54.572486\n",
       "75%       0.000000       1.000000     1.000000    63.593777\n",
       "max       1.000000       1.000000     1.000000   107.114852"
      ]
     },
     "execution_count": 41,
     "metadata": {},
     "output_type": "execute_result"
    }
   ],
   "source": [
    "df.describe()"
   ]
  },
  {
   "cell_type": "markdown",
   "id": "dfe71c1d",
   "metadata": {},
   "source": [
    "**Null Hypothesis (H0): There is no significant difference between the conversion rate of Version A and Version B.**\n",
    "\n",
    "**Alternative Hypothesis (Ha): There is a significant difference between the conversion rate of Version A and Version B.**"
   ]
  },
  {
   "cell_type": "code",
   "execution_count": 51,
   "id": "da572766",
   "metadata": {},
   "outputs": [
    {
     "name": "stdout",
     "output_type": "stream",
     "text": [
      "t_stat: -7.588276816916516\n",
      "p_value:7.418185923338823e-14\n",
      "\n",
      "There is significant evidence to reject the null hypothesis.\n",
      "Version B leads to a higher conversion rate compared to Version A.\n"
     ]
    }
   ],
   "source": [
    "from scipy.stats import ttest_ind\n",
    "\n",
    "# calculate t_test between conversion rates\n",
    "t_stat, p_value = ttest_ind(df[df.Version=='A']['Conversion'], df[df.Version=='B']['Conversion'])\n",
    "print(f't_stat: {t_stat}\\np_value:{p_value}', end='\\n\\n')\n",
    "\n",
    "# significance level\n",
    "alpha = 0.05\n",
    "if p_value < alpha:\n",
    "    print(\"There is significant evidence to reject the null hypothesis.\")\n",
    "    print(\"Version B leads to a higher conversion rate compared to Version A.\")\n",
    "else:\n",
    "    print(\"There is not enough evidence to reject the null hypothesis.\")\n",
    "    print(\"There is no significant difference in conversion rates between Version A and Version B.\")"
   ]
  },
  {
   "cell_type": "code",
   "execution_count": 56,
   "id": "7f38754d",
   "metadata": {},
   "outputs": [],
   "source": [
    "# Confidence Interval\n",
    "import math\n",
    "\n",
    "def Confidence_Interval(columns):\n",
    "    columns_mean = columns.mean()\n",
    "    columns_std = columns.std()\n",
    "\n",
    "    columns_standard_error = columns_std/len(columns)\n",
    "    columns_margin_error = columns_standard_error/2\n",
    "\n",
    "    confidence_level = 0.95\n",
    "\n",
    "    upper_bound = columns_mean + confidence_level * (columns_std / math.sqrt(10))\n",
    "    lower_bound = columns_mean - confidence_level * (columns_std / math.sqrt(10))\n",
    "\n",
    "    confidence_intervals = pd.DataFrame({\n",
    "        'Sample Size': columns.count(),\n",
    "        'Sample Mean': columns_mean,\n",
    "        'Standard Error': columns_standard_error,\n",
    "        'Margin of Error': columns_margin_error,\n",
    "        'Lower Bound (95% CI)': lower_bound,\n",
    "        'Upper Bound (95% CI)': upper_bound\n",
    "    })\n",
    "\n",
    "    return confidence_intervals"
   ]
  },
  {
   "cell_type": "code",
   "execution_count": 87,
   "id": "48a5c86a",
   "metadata": {},
   "outputs": [
    {
     "name": "stdout",
     "output_type": "stream",
     "text": [
      "Conversion Rate Confidence Interval Values\n",
      "\n"
     ]
    },
    {
     "data": {
      "text/html": [
       "<div>\n",
       "<style scoped>\n",
       "    .dataframe tbody tr th:only-of-type {\n",
       "        vertical-align: middle;\n",
       "    }\n",
       "\n",
       "    .dataframe tbody tr th {\n",
       "        vertical-align: top;\n",
       "    }\n",
       "\n",
       "    .dataframe thead th {\n",
       "        text-align: right;\n",
       "    }\n",
       "</style>\n",
       "<table border=\"1\" class=\"dataframe\">\n",
       "  <thead>\n",
       "    <tr style=\"text-align: right;\">\n",
       "      <th></th>\n",
       "      <th>Sample Size</th>\n",
       "      <th>Sample Mean</th>\n",
       "      <th>Standard Error</th>\n",
       "      <th>Margin of Error</th>\n",
       "      <th>Lower Bound (95% CI)</th>\n",
       "      <th>Upper Bound (95% CI)</th>\n",
       "    </tr>\n",
       "  </thead>\n",
       "  <tbody>\n",
       "    <tr>\n",
       "      <th>Conversion</th>\n",
       "      <td>500</td>\n",
       "      <td>0.016</td>\n",
       "      <td>0.000251</td>\n",
       "      <td>0.000126</td>\n",
       "      <td>-0.021733</td>\n",
       "      <td>0.053733</td>\n",
       "    </tr>\n",
       "  </tbody>\n",
       "</table>\n",
       "</div>"
      ],
      "text/plain": [
       "            Sample Size  Sample Mean  Standard Error  Margin of Error  \\\n",
       "Conversion          500        0.016        0.000251         0.000126   \n",
       "\n",
       "            Lower Bound (95% CI)  Upper Bound (95% CI)  \n",
       "Conversion             -0.021733              0.053733  "
      ]
     },
     "execution_count": 87,
     "metadata": {},
     "output_type": "execute_result"
    }
   ],
   "source": [
    "print(\"Conversion Rate Confidence Interval Values\\n\")\n",
    "Confidence_Interval(df.loc[df.Version=='A', ['Conversion']])"
   ]
  },
  {
   "cell_type": "code",
   "execution_count": 86,
   "id": "11944f2e",
   "metadata": {},
   "outputs": [
    {
     "data": {
      "text/html": [
       "<div>\n",
       "<style scoped>\n",
       "    .dataframe tbody tr th:only-of-type {\n",
       "        vertical-align: middle;\n",
       "    }\n",
       "\n",
       "    .dataframe tbody tr th {\n",
       "        vertical-align: top;\n",
       "    }\n",
       "\n",
       "    .dataframe thead th {\n",
       "        text-align: right;\n",
       "    }\n",
       "</style>\n",
       "<table border=\"1\" class=\"dataframe\">\n",
       "  <thead>\n",
       "    <tr style=\"text-align: right;\">\n",
       "      <th></th>\n",
       "      <th>Sample Size</th>\n",
       "      <th>Sample Mean</th>\n",
       "      <th>Standard Error</th>\n",
       "      <th>Margin of Error</th>\n",
       "      <th>Lower Bound (95% CI)</th>\n",
       "      <th>Upper Bound (95% CI)</th>\n",
       "    </tr>\n",
       "  </thead>\n",
       "  <tbody>\n",
       "    <tr>\n",
       "      <th>Conversion</th>\n",
       "      <td>500</td>\n",
       "      <td>0.142</td>\n",
       "      <td>0.000699</td>\n",
       "      <td>0.000349</td>\n",
       "      <td>0.037035</td>\n",
       "      <td>0.246965</td>\n",
       "    </tr>\n",
       "  </tbody>\n",
       "</table>\n",
       "</div>"
      ],
      "text/plain": [
       "            Sample Size  Sample Mean  Standard Error  Margin of Error  \\\n",
       "Conversion          500        0.142        0.000699         0.000349   \n",
       "\n",
       "            Lower Bound (95% CI)  Upper Bound (95% CI)  \n",
       "Conversion              0.037035              0.246965  "
      ]
     },
     "execution_count": 86,
     "metadata": {},
     "output_type": "execute_result"
    }
   ],
   "source": [
    "Confidence_Interval(df.loc[df.Version=='B', ['Conversion']])"
   ]
  },
  {
   "cell_type": "code",
   "execution_count": 88,
   "id": "a819fb51",
   "metadata": {},
   "outputs": [
    {
     "name": "stdout",
     "output_type": "stream",
     "text": [
      "t_stat: -2.8441804218860818\n",
      "p_value:0.00454353573685893\n",
      "\n",
      "There is significant evidence to reject the null hypothesis.\n",
      "Version B leads to a higher Click through compared to Version A.\n"
     ]
    }
   ],
   "source": [
    "from scipy.stats import ttest_ind\n",
    "\n",
    "# calculate t_test between Click_through\n",
    "t_stat, p_value = ttest_ind(df[df.Version=='A']['Click_through'], df[df.Version=='B']['Click_through'])\n",
    "print(f't_stat: {t_stat}\\np_value:{p_value}', end='\\n\\n')\n",
    "\n",
    "# significance level\n",
    "alpha = 0.05\n",
    "if p_value < alpha:\n",
    "    print(\"There is significant evidence to reject the null hypothesis.\")\n",
    "    print(\"Version B leads to a higher Click through compared to Version A.\")\n",
    "else:\n",
    "    print(\"There is not enough evidence to reject the null hypothesis.\")\n",
    "    print(\"There is no significant difference in Click through between Version A and Version B.\")"
   ]
  },
  {
   "cell_type": "code",
   "execution_count": 89,
   "id": "2248c9d5",
   "metadata": {},
   "outputs": [
    {
     "name": "stdout",
     "output_type": "stream",
     "text": [
      "Click Through Confidence Interval Values\n",
      "\n"
     ]
    },
    {
     "data": {
      "text/html": [
       "<div>\n",
       "<style scoped>\n",
       "    .dataframe tbody tr th:only-of-type {\n",
       "        vertical-align: middle;\n",
       "    }\n",
       "\n",
       "    .dataframe tbody tr th {\n",
       "        vertical-align: top;\n",
       "    }\n",
       "\n",
       "    .dataframe thead th {\n",
       "        text-align: right;\n",
       "    }\n",
       "</style>\n",
       "<table border=\"1\" class=\"dataframe\">\n",
       "  <thead>\n",
       "    <tr style=\"text-align: right;\">\n",
       "      <th></th>\n",
       "      <th>Sample Size</th>\n",
       "      <th>Sample Mean</th>\n",
       "      <th>Standard Error</th>\n",
       "      <th>Margin of Error</th>\n",
       "      <th>Lower Bound (95% CI)</th>\n",
       "      <th>Upper Bound (95% CI)</th>\n",
       "    </tr>\n",
       "  </thead>\n",
       "  <tbody>\n",
       "    <tr>\n",
       "      <th>Click_through</th>\n",
       "      <td>500</td>\n",
       "      <td>0.36</td>\n",
       "      <td>0.000961</td>\n",
       "      <td>0.00048</td>\n",
       "      <td>0.215656</td>\n",
       "      <td>0.504344</td>\n",
       "    </tr>\n",
       "  </tbody>\n",
       "</table>\n",
       "</div>"
      ],
      "text/plain": [
       "               Sample Size  Sample Mean  Standard Error  Margin of Error  \\\n",
       "Click_through          500         0.36        0.000961          0.00048   \n",
       "\n",
       "               Lower Bound (95% CI)  Upper Bound (95% CI)  \n",
       "Click_through              0.215656              0.504344  "
      ]
     },
     "execution_count": 89,
     "metadata": {},
     "output_type": "execute_result"
    }
   ],
   "source": [
    "print(\"Click Through Confidence Interval Values\\n\")\n",
    "Confidence_Interval(df.loc[df.Version=='A', ['Click_through']])"
   ]
  },
  {
   "cell_type": "code",
   "execution_count": 90,
   "id": "89e8b084",
   "metadata": {},
   "outputs": [
    {
     "data": {
      "text/html": [
       "<div>\n",
       "<style scoped>\n",
       "    .dataframe tbody tr th:only-of-type {\n",
       "        vertical-align: middle;\n",
       "    }\n",
       "\n",
       "    .dataframe tbody tr th {\n",
       "        vertical-align: top;\n",
       "    }\n",
       "\n",
       "    .dataframe thead th {\n",
       "        text-align: right;\n",
       "    }\n",
       "</style>\n",
       "<table border=\"1\" class=\"dataframe\">\n",
       "  <thead>\n",
       "    <tr style=\"text-align: right;\">\n",
       "      <th></th>\n",
       "      <th>Sample Size</th>\n",
       "      <th>Sample Mean</th>\n",
       "      <th>Standard Error</th>\n",
       "      <th>Margin of Error</th>\n",
       "      <th>Lower Bound (95% CI)</th>\n",
       "      <th>Upper Bound (95% CI)</th>\n",
       "    </tr>\n",
       "  </thead>\n",
       "  <tbody>\n",
       "    <tr>\n",
       "      <th>Click_through</th>\n",
       "      <td>500</td>\n",
       "      <td>0.448</td>\n",
       "      <td>0.000996</td>\n",
       "      <td>0.000498</td>\n",
       "      <td>0.298457</td>\n",
       "      <td>0.597543</td>\n",
       "    </tr>\n",
       "  </tbody>\n",
       "</table>\n",
       "</div>"
      ],
      "text/plain": [
       "               Sample Size  Sample Mean  Standard Error  Margin of Error  \\\n",
       "Click_through          500        0.448        0.000996         0.000498   \n",
       "\n",
       "               Lower Bound (95% CI)  Upper Bound (95% CI)  \n",
       "Click_through              0.298457              0.597543  "
      ]
     },
     "execution_count": 90,
     "metadata": {},
     "output_type": "execute_result"
    }
   ],
   "source": [
    "Confidence_Interval(df.loc[df.Version=='B', ['Click_through']])"
   ]
  },
  {
   "cell_type": "code",
   "execution_count": 91,
   "id": "f6b3fa09",
   "metadata": {},
   "outputs": [
    {
     "name": "stdout",
     "output_type": "stream",
     "text": [
      "t_stat: 0.819859645047051\n",
      "p_value:0.41249188079475607\n",
      "\n",
      "There is not enough evidence to reject the null hypothesis.\n",
      "There is no significant difference in Bounce between Version A and Version B.\n"
     ]
    }
   ],
   "source": [
    "from scipy.stats import ttest_ind\n",
    "\n",
    "# calculate t_test between Bounces\n",
    "t_stat, p_value = ttest_ind(df[df.Version=='A']['Bounce'], df[df.Version=='B']['Bounce'])\n",
    "print(f't_stat: {t_stat}\\np_value:{p_value}', end='\\n\\n')\n",
    "\n",
    "# significance level\n",
    "alpha = 0.05\n",
    "if p_value < alpha:\n",
    "    print(\"There is significant evidence to reject the null hypothesis.\")\n",
    "    print(\"Version B leads to a higher Bounce compared to Version A.\")\n",
    "else:\n",
    "    print(\"There is not enough evidence to reject the null hypothesis.\")\n",
    "    print(\"There is no significant difference in Bounce between Version A and Version B.\")"
   ]
  },
  {
   "cell_type": "code",
   "execution_count": 92,
   "id": "16c5de8a",
   "metadata": {},
   "outputs": [
    {
     "name": "stdout",
     "output_type": "stream",
     "text": [
      "Bounce Confidence Interval Values\n",
      "\n"
     ]
    },
    {
     "data": {
      "text/html": [
       "<div>\n",
       "<style scoped>\n",
       "    .dataframe tbody tr th:only-of-type {\n",
       "        vertical-align: middle;\n",
       "    }\n",
       "\n",
       "    .dataframe tbody tr th {\n",
       "        vertical-align: top;\n",
       "    }\n",
       "\n",
       "    .dataframe thead th {\n",
       "        text-align: right;\n",
       "    }\n",
       "</style>\n",
       "<table border=\"1\" class=\"dataframe\">\n",
       "  <thead>\n",
       "    <tr style=\"text-align: right;\">\n",
       "      <th></th>\n",
       "      <th>Sample Size</th>\n",
       "      <th>Sample Mean</th>\n",
       "      <th>Standard Error</th>\n",
       "      <th>Margin of Error</th>\n",
       "      <th>Lower Bound (95% CI)</th>\n",
       "      <th>Upper Bound (95% CI)</th>\n",
       "    </tr>\n",
       "  </thead>\n",
       "  <tbody>\n",
       "    <tr>\n",
       "      <th>Bounce</th>\n",
       "      <td>500</td>\n",
       "      <td>0.776</td>\n",
       "      <td>0.000835</td>\n",
       "      <td>0.000417</td>\n",
       "      <td>0.650624</td>\n",
       "      <td>0.901376</td>\n",
       "    </tr>\n",
       "  </tbody>\n",
       "</table>\n",
       "</div>"
      ],
      "text/plain": [
       "        Sample Size  Sample Mean  Standard Error  Margin of Error  \\\n",
       "Bounce          500        0.776        0.000835         0.000417   \n",
       "\n",
       "        Lower Bound (95% CI)  Upper Bound (95% CI)  \n",
       "Bounce              0.650624              0.901376  "
      ]
     },
     "execution_count": 92,
     "metadata": {},
     "output_type": "execute_result"
    }
   ],
   "source": [
    "print(\"Bounce Confidence Interval Values\\n\")\n",
    "Confidence_Interval(df.loc[df.Version=='A', ['Bounce']])"
   ]
  },
  {
   "cell_type": "code",
   "execution_count": 93,
   "id": "a3f811ba",
   "metadata": {},
   "outputs": [
    {
     "data": {
      "text/html": [
       "<div>\n",
       "<style scoped>\n",
       "    .dataframe tbody tr th:only-of-type {\n",
       "        vertical-align: middle;\n",
       "    }\n",
       "\n",
       "    .dataframe tbody tr th {\n",
       "        vertical-align: top;\n",
       "    }\n",
       "\n",
       "    .dataframe thead th {\n",
       "        text-align: right;\n",
       "    }\n",
       "</style>\n",
       "<table border=\"1\" class=\"dataframe\">\n",
       "  <thead>\n",
       "    <tr style=\"text-align: right;\">\n",
       "      <th></th>\n",
       "      <th>Sample Size</th>\n",
       "      <th>Sample Mean</th>\n",
       "      <th>Standard Error</th>\n",
       "      <th>Margin of Error</th>\n",
       "      <th>Lower Bound (95% CI)</th>\n",
       "      <th>Upper Bound (95% CI)</th>\n",
       "    </tr>\n",
       "  </thead>\n",
       "  <tbody>\n",
       "    <tr>\n",
       "      <th>Bounce</th>\n",
       "      <td>500</td>\n",
       "      <td>0.754</td>\n",
       "      <td>0.000862</td>\n",
       "      <td>0.000431</td>\n",
       "      <td>0.624488</td>\n",
       "      <td>0.883512</td>\n",
       "    </tr>\n",
       "  </tbody>\n",
       "</table>\n",
       "</div>"
      ],
      "text/plain": [
       "        Sample Size  Sample Mean  Standard Error  Margin of Error  \\\n",
       "Bounce          500        0.754        0.000862         0.000431   \n",
       "\n",
       "        Lower Bound (95% CI)  Upper Bound (95% CI)  \n",
       "Bounce              0.624488              0.883512  "
      ]
     },
     "execution_count": 93,
     "metadata": {},
     "output_type": "execute_result"
    }
   ],
   "source": [
    "Confidence_Interval(df.loc[df.Version=='B', ['Bounce']])"
   ]
  },
  {
   "cell_type": "markdown",
   "id": "1144b30f",
   "metadata": {},
   "source": [
    "### We can conclude from above hypothesis testing that there is significance difference between both versions. Hence Version B leads to more conversion rate than Version A"
   ]
  },
  {
   "cell_type": "code",
   "execution_count": null,
   "id": "3fd37416",
   "metadata": {},
   "outputs": [],
   "source": []
  },
  {
   "cell_type": "code",
   "execution_count": null,
   "id": "efede96f",
   "metadata": {},
   "outputs": [],
   "source": []
  },
  {
   "cell_type": "code",
   "execution_count": null,
   "id": "c74ed0df",
   "metadata": {},
   "outputs": [],
   "source": []
  },
  {
   "cell_type": "code",
   "execution_count": null,
   "id": "956a1d79",
   "metadata": {},
   "outputs": [],
   "source": []
  }
 ],
 "metadata": {
  "kernelspec": {
   "display_name": "Python 3 (ipykernel)",
   "language": "python",
   "name": "python3"
  },
  "language_info": {
   "codemirror_mode": {
    "name": "ipython",
    "version": 3
   },
   "file_extension": ".py",
   "mimetype": "text/x-python",
   "name": "python",
   "nbconvert_exporter": "python",
   "pygments_lexer": "ipython3",
   "version": "3.9.12"
  }
 },
 "nbformat": 4,
 "nbformat_minor": 5
}
