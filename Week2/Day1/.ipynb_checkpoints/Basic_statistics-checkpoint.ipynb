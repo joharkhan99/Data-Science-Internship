{
 "cells": [
  {
   "cell_type": "markdown",
   "id": "6e5ad34c",
   "metadata": {},
   "source": [
    "# Fundamentals of statistics for data science"
   ]
  },
  {
   "cell_type": "markdown",
   "id": "85ccffd6",
   "metadata": {},
   "source": [
    "**Tasks**\n",
    " - Import the NumPy and SciPy libraries.\n",
    " - Load the dataset heights_and_weights.csv.\n",
    " - Calculate the mean, median, and standard deviation of the heights and weights in the dataset using NumPy.\n",
    " - Calculate the skewness and kurtosis of the heights and weights in the dataset using SciPy.\n",
    " - Print the results."
   ]
  },
  {
   "cell_type": "code",
   "execution_count": 4,
   "id": "cc3328df",
   "metadata": {},
   "outputs": [],
   "source": [
    "import pandas as pd\n",
    "import numpy as np\n",
    "import scipy as scp"
   ]
  },
  {
   "cell_type": "markdown",
   "id": "f8fa02fa",
   "metadata": {},
   "source": [
    "## Read Data"
   ]
  },
  {
   "cell_type": "code",
   "execution_count": 3,
   "id": "1440b57e",
   "metadata": {
    "scrolled": false
   },
   "outputs": [
    {
     "data": {
      "text/html": [
       "<div>\n",
       "<style scoped>\n",
       "    .dataframe tbody tr th:only-of-type {\n",
       "        vertical-align: middle;\n",
       "    }\n",
       "\n",
       "    .dataframe tbody tr th {\n",
       "        vertical-align: top;\n",
       "    }\n",
       "\n",
       "    .dataframe thead th {\n",
       "        text-align: right;\n",
       "    }\n",
       "</style>\n",
       "<table border=\"1\" class=\"dataframe\">\n",
       "  <thead>\n",
       "    <tr style=\"text-align: right;\">\n",
       "      <th></th>\n",
       "      <th>Index</th>\n",
       "      <th>Height(Inches)</th>\n",
       "      <th>Weight(Pounds)</th>\n",
       "    </tr>\n",
       "  </thead>\n",
       "  <tbody>\n",
       "    <tr>\n",
       "      <th>0</th>\n",
       "      <td>1</td>\n",
       "      <td>65.78331</td>\n",
       "      <td>112.9925</td>\n",
       "    </tr>\n",
       "    <tr>\n",
       "      <th>1</th>\n",
       "      <td>2</td>\n",
       "      <td>71.51521</td>\n",
       "      <td>136.4873</td>\n",
       "    </tr>\n",
       "    <tr>\n",
       "      <th>2</th>\n",
       "      <td>3</td>\n",
       "      <td>69.39874</td>\n",
       "      <td>153.0269</td>\n",
       "    </tr>\n",
       "    <tr>\n",
       "      <th>3</th>\n",
       "      <td>4</td>\n",
       "      <td>68.21660</td>\n",
       "      <td>142.3354</td>\n",
       "    </tr>\n",
       "    <tr>\n",
       "      <th>4</th>\n",
       "      <td>5</td>\n",
       "      <td>67.78781</td>\n",
       "      <td>144.2971</td>\n",
       "    </tr>\n",
       "    <tr>\n",
       "      <th>...</th>\n",
       "      <td>...</td>\n",
       "      <td>...</td>\n",
       "      <td>...</td>\n",
       "    </tr>\n",
       "    <tr>\n",
       "      <th>24995</th>\n",
       "      <td>24996</td>\n",
       "      <td>69.50215</td>\n",
       "      <td>118.0312</td>\n",
       "    </tr>\n",
       "    <tr>\n",
       "      <th>24996</th>\n",
       "      <td>24997</td>\n",
       "      <td>64.54826</td>\n",
       "      <td>120.1932</td>\n",
       "    </tr>\n",
       "    <tr>\n",
       "      <th>24997</th>\n",
       "      <td>24998</td>\n",
       "      <td>64.69855</td>\n",
       "      <td>118.2655</td>\n",
       "    </tr>\n",
       "    <tr>\n",
       "      <th>24998</th>\n",
       "      <td>24999</td>\n",
       "      <td>67.52918</td>\n",
       "      <td>132.2682</td>\n",
       "    </tr>\n",
       "    <tr>\n",
       "      <th>24999</th>\n",
       "      <td>25000</td>\n",
       "      <td>68.87761</td>\n",
       "      <td>124.8742</td>\n",
       "    </tr>\n",
       "  </tbody>\n",
       "</table>\n",
       "<p>25000 rows × 3 columns</p>\n",
       "</div>"
      ],
      "text/plain": [
       "       Index  Height(Inches)  Weight(Pounds)\n",
       "0          1        65.78331        112.9925\n",
       "1          2        71.51521        136.4873\n",
       "2          3        69.39874        153.0269\n",
       "3          4        68.21660        142.3354\n",
       "4          5        67.78781        144.2971\n",
       "...      ...             ...             ...\n",
       "24995  24996        69.50215        118.0312\n",
       "24996  24997        64.54826        120.1932\n",
       "24997  24998        64.69855        118.2655\n",
       "24998  24999        67.52918        132.2682\n",
       "24999  25000        68.87761        124.8742\n",
       "\n",
       "[25000 rows x 3 columns]"
      ]
     },
     "execution_count": 3,
     "metadata": {},
     "output_type": "execute_result"
    }
   ],
   "source": [
    "df = pd.read_csv(\"height_wieight.csv\")\n",
    "df"
   ]
  },
  {
   "cell_type": "markdown",
   "id": "08e32f5d",
   "metadata": {},
   "source": [
    "## Mean"
   ]
  },
  {
   "cell_type": "code",
   "execution_count": 17,
   "id": "bcd7b807",
   "metadata": {},
   "outputs": [
    {
     "name": "stdout",
     "output_type": "stream",
     "text": [
      "Height Mean: 67.99311359679979\n",
      "Width Mean: 127.07942116079916\n"
     ]
    }
   ],
   "source": [
    "h_mean = np.mean(df['Height(Inches)'])\n",
    "w_mean = np.mean(df['Weight(Pounds)'])\n",
    "\n",
    "print(\"Height Mean: {}\\nWidth Mean: {}\".format(h_mean,w_mean))"
   ]
  },
  {
   "cell_type": "markdown",
   "id": "558ede2e",
   "metadata": {},
   "source": [
    "## Median"
   ]
  },
  {
   "cell_type": "code",
   "execution_count": 18,
   "id": "500c223d",
   "metadata": {},
   "outputs": [
    {
     "name": "stdout",
     "output_type": "stream",
     "text": [
      "Height Median: 67.9957\n",
      "Width Median: 127.15775\n"
     ]
    }
   ],
   "source": [
    "h_median = np.median(df['Height(Inches)'])\n",
    "w_median = np.median(df['Weight(Pounds)'])\n",
    "\n",
    "print(\"Height Median: {}\\nWidth Median: {}\".format(h_median,w_median))"
   ]
  },
  {
   "cell_type": "markdown",
   "id": "36e08a19",
   "metadata": {},
   "source": [
    "## Standard Deviation"
   ]
  },
  {
   "cell_type": "code",
   "execution_count": 19,
   "id": "5d7f4c40",
   "metadata": {},
   "outputs": [
    {
     "name": "stdout",
     "output_type": "stream",
     "text": [
      "Height Standard Deviation: 1.9016407372498367\n",
      "Width Standard Deviation: 11.66066434332079\n"
     ]
    }
   ],
   "source": [
    "h_std = np.std(df['Height(Inches)'])\n",
    "w_std = np.std(df['Weight(Pounds)'])\n",
    "\n",
    "print(\"Height Standard Deviation: {}\\nWidth Standard Deviation: {}\".format(h_std,w_std))"
   ]
  },
  {
   "cell_type": "markdown",
   "id": "9bf61f65",
   "metadata": {},
   "source": [
    "## Skewness\n",
    "It is the degree of distortion from the symmetrical bell curve or the normal distribution. It measures the lack of symmetry in data distribution.\n",
    "### Positive\n",
    "Skewness means when the tail on the right side of the distribution is longer or fatter. The mean and median will be greater than the mode.\n",
    "### Negative\n",
    "Skewness is when the tail of the left side of the distribution is longer or fatter than the tail on the right side. The mean and median will be less than the mode.\n",
    "\n",
    "\n",
    "- If the skewness is between -0.5 and 0.5, the data are fairly symmetrical.\n",
    "- If the skewness is between -1 and -0.5(negatively skewed) or between 0.5 and 1(positively skewed), the data are moderately skewed.\n",
    "- If the skewness is less than -1(negatively skewed) or greater than 1(positively skewed), the data are highly skewed."
   ]
  },
  {
   "cell_type": "code",
   "execution_count": 23,
   "id": "5f531276",
   "metadata": {},
   "outputs": [
    {
     "name": "stdout",
     "output_type": "stream",
     "text": [
      "Height Skewness\n",
      "1st way: -0.005657639882518977\n",
      "2nd way: -0.0040802710252500155\n"
     ]
    }
   ],
   "source": [
    "h_skewness1 = scp.stats.skew(df['Height(Inches)'])\n",
    "# OR\n",
    "h_skewness2 = (3*(h_mean-h_median))/h_std\n",
    "\n",
    "print(\"Height Skewness\\n1st way: {}\\n2nd way: {}\".format(h_skewness1, h_skewness2))"
   ]
  },
  {
   "cell_type": "code",
   "execution_count": 41,
   "id": "9c057a5a",
   "metadata": {
    "scrolled": true
   },
   "outputs": [
    {
     "name": "stdout",
     "output_type": "stream",
     "text": [
      "Weight Skewness\n",
      "1st way: -0.026029783883831488\n",
      "2nd way: -0.020152069443376747\n"
     ]
    }
   ],
   "source": [
    "w_skewness1 = scp.stats.skew(df['Weight(Pounds)'])\n",
    "# OR\n",
    "w_skewness2 = (3*(w_mean-w_median))/w_std\n",
    "\n",
    "print(\"Weight Skewness\\n1st way: {}\\n2nd way: {}\".format(w_skewness1, w_skewness2))"
   ]
  },
  {
   "cell_type": "markdown",
   "id": "9afff2c2",
   "metadata": {},
   "source": [
    "## Kurtosis\n",
    "It is all about the tails of the distribution — not the peakedness or flatness. It is used to describe the extreme values in one versus the other tail. It is actually the measure of outliers present in the distribution.\n",
    "\n",
    "### High kurtosis \n",
    "in a data set is an indicator that data has heavy tails or outliers. If there is a high kurtosis, then, we need to investigate why do we have so many outliers. It indicates a lot of things, maybe wrong data entry or other things.\n",
    "### Low kurtosis \n",
    "in a data set is an indicator that data has light tails or lack of outliers. If we get low kurtosis(too good to be true), then also we need to investigate and trim the dataset of unwanted results."
   ]
  },
  {
   "cell_type": "code",
   "execution_count": 45,
   "id": "2af29cf7",
   "metadata": {},
   "outputs": [
    {
     "name": "stdout",
     "output_type": "stream",
     "text": [
      "Height Kurtosis: -0.03539236835811055\n"
     ]
    }
   ],
   "source": [
    "h_kurtosis = scp.stats.kurtosis(df['Height(Inches)'])\n",
    "print(\"Height Kurtosis: {}\".format(h_kurtosis))"
   ]
  },
  {
   "cell_type": "code",
   "execution_count": 46,
   "id": "c1bea6c6",
   "metadata": {},
   "outputs": [
    {
     "name": "stdout",
     "output_type": "stream",
     "text": [
      "Weight Kurtosis: 0.044491674304663054\n"
     ]
    }
   ],
   "source": [
    "w_kurtosis = scp.stats.kurtosis(df['Weight(Pounds)'])\n",
    "print(\"Weight Kurtosis: {}\".format(w_kurtosis))"
   ]
  },
  {
   "cell_type": "code",
   "execution_count": null,
   "id": "182c1a19",
   "metadata": {},
   "outputs": [],
   "source": []
  }
 ],
 "metadata": {
  "kernelspec": {
   "display_name": "Python 3 (ipykernel)",
   "language": "python",
   "name": "python3"
  },
  "language_info": {
   "codemirror_mode": {
    "name": "ipython",
    "version": 3
   },
   "file_extension": ".py",
   "mimetype": "text/x-python",
   "name": "python",
   "nbconvert_exporter": "python",
   "pygments_lexer": "ipython3",
   "version": "3.9.12"
  }
 },
 "nbformat": 4,
 "nbformat_minor": 5
}
